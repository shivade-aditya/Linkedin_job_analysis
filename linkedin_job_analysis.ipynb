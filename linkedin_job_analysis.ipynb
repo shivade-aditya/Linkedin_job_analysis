{
  "cells": [
    {
      "cell_type": "code",
      "execution_count": 27,
      "id": "db92dd59",
      "metadata": {
        "_cell_guid": "b1076dfc-b9ad-4769-8c92-a6c4dae69d19",
        "_uuid": "8f2839f25d086af736a60e9eeb907d3b93b6e0e5",
        "execution": {
          "iopub.execute_input": "2023-05-18T10:03:36.274145Z",
          "iopub.status.busy": "2023-05-18T10:03:36.273702Z",
          "iopub.status.idle": "2023-05-18T10:03:36.292794Z",
          "shell.execute_reply": "2023-05-18T10:03:36.291669Z"
        },
        "papermill": {
          "duration": 0.036328,
          "end_time": "2023-05-18T10:03:36.295967",
          "exception": false,
          "start_time": "2023-05-18T10:03:36.259639",
          "status": "completed"
        },
        "tags": [],
        "id": "db92dd59"
      },
      "outputs": [],
      "source": [
        "import numpy as np # linear algebra\n",
        "import pandas as pd # data processing, CSV file I/O (e.g. pd.read_csv)"
      ]
    },
    {
      "cell_type": "code",
      "execution_count": 2,
      "id": "23fb18fa",
      "metadata": {
        "execution": {
          "iopub.execute_input": "2023-05-18T10:03:36.321293Z",
          "iopub.status.busy": "2023-05-18T10:03:36.320176Z",
          "iopub.status.idle": "2023-05-18T10:03:37.899850Z",
          "shell.execute_reply": "2023-05-18T10:03:37.898801Z"
        },
        "papermill": {
          "duration": 1.59583,
          "end_time": "2023-05-18T10:03:37.903400",
          "exception": false,
          "start_time": "2023-05-18T10:03:36.307570",
          "status": "completed"
        },
        "tags": [],
        "id": "23fb18fa"
      },
      "outputs": [],
      "source": [
        "#importing other libraries\n",
        "import matplotlib.pyplot as plt   #visualization\n",
        "import seaborn as sns    # detailed visualization\n",
        "import json  #to import and work with Json files"
      ]
    },
    {
      "cell_type": "markdown",
      "id": "ac1097e5",
      "metadata": {
        "papermill": {
          "duration": 0.01147,
          "end_time": "2023-05-18T10:03:37.929263",
          "exception": false,
          "start_time": "2023-05-18T10:03:37.917793",
          "status": "completed"
        },
        "tags": [],
        "id": "ac1097e5"
      },
      "source": [
        "**This Exploratory Data Analysis is using linkedin data analyst jobs listing dataset which consist of three regions such as Africa, USA and Canada. Whereas only dataset of region USA is used here.**"
      ]
    },
    {
      "cell_type": "code",
      "execution_count": 3,
      "id": "de4d9091",
      "metadata": {
        "execution": {
          "iopub.execute_input": "2023-05-18T10:03:37.955455Z",
          "iopub.status.busy": "2023-05-18T10:03:37.954612Z",
          "iopub.status.idle": "2023-05-18T10:03:38.279703Z",
          "shell.execute_reply": "2023-05-18T10:03:38.278486Z"
        },
        "papermill": {
          "duration": 0.341312,
          "end_time": "2023-05-18T10:03:38.282623",
          "exception": false,
          "start_time": "2023-05-18T10:03:37.941311",
          "status": "completed"
        },
        "tags": [],
        "id": "de4d9091"
      },
      "outputs": [],
      "source": [
        "usa_df=pd.read_csv('/content/linkedin-jobs-usa.csv')"
      ]
    },
    {
      "cell_type": "code",
      "execution_count": 4,
      "id": "f17d1207",
      "metadata": {
        "execution": {
          "iopub.execute_input": "2023-05-18T10:03:38.307274Z",
          "iopub.status.busy": "2023-05-18T10:03:38.306826Z",
          "iopub.status.idle": "2023-05-18T10:03:38.343211Z",
          "shell.execute_reply": "2023-05-18T10:03:38.342345Z"
        },
        "papermill": {
          "duration": 0.051301,
          "end_time": "2023-05-18T10:03:38.345596",
          "exception": false,
          "start_time": "2023-05-18T10:03:38.294295",
          "status": "completed"
        },
        "tags": [],
        "colab": {
          "base_uri": "https://localhost:8080/",
          "height": 556
        },
        "id": "f17d1207",
        "outputId": "71ce3270-0381-4651-dcef-6feb57e00d4a"
      },
      "outputs": [
        {
          "output_type": "execute_result",
          "data": {
            "text/plain": [
              "                            title                   company  \\\n",
              "0  Data Analyst - Recent Graduate                    PayPal   \n",
              "1  Data Analyst - Recent Graduate                    PayPal   \n",
              "2                    Data Analyst                    PayPal   \n",
              "3                    Data Analyst                    PayPal   \n",
              "4        Entry-Level Data Analyst  The Federal Savings Bank   \n",
              "\n",
              "                                         description onsite_remote salary  \\\n",
              "0  At PayPal (NASDAQ: PYPL), we believe that ever...        onsite    NaN   \n",
              "1  At PayPal (NASDAQ: PYPL), we believe that ever...        onsite    NaN   \n",
              "2  At PayPal (NASDAQ: PYPL), we believe that ever...        onsite    NaN   \n",
              "3  At PayPal (NASDAQ: PYPL), we believe that ever...        onsite    NaN   \n",
              "4  The Federal Savings Bank, a national bank and ...        onsite    NaN   \n",
              "\n",
              "                     location  \\\n",
              "0  Buffalo-Niagara Falls Area   \n",
              "1                San Jose, CA   \n",
              "2        Texas, United States   \n",
              "3     Illinois, United States   \n",
              "4                 Chicago, IL   \n",
              "\n",
              "                                            criteria posted_date  \\\n",
              "0  [{'Seniority level': 'Not Applicable'}, {'Empl...  2022-11-22   \n",
              "1  [{'Seniority level': 'Not Applicable'}, {'Empl...  2022-11-22   \n",
              "2  [{'Seniority level': 'Not Applicable'}, {'Empl...  2022-11-17   \n",
              "3  [{'Seniority level': 'Not Applicable'}, {'Empl...  2022-11-17   \n",
              "4  [{'Seniority level': 'Entry level'}, {'Employm...  2022-11-17   \n",
              "\n",
              "                                                link  \n",
              "0  https://www.linkedin.com/jobs/view/data-analys...  \n",
              "1  https://www.linkedin.com/jobs/view/data-analys...  \n",
              "2  https://www.linkedin.com/jobs/view/data-analys...  \n",
              "3  https://www.linkedin.com/jobs/view/data-analys...  \n",
              "4  https://www.linkedin.com/jobs/view/entry-level...  "
            ],
            "text/html": [
              "\n",
              "  <div id=\"df-e89aca43-efcf-4957-82bd-0fe87ce82092\" class=\"colab-df-container\">\n",
              "    <div>\n",
              "<style scoped>\n",
              "    .dataframe tbody tr th:only-of-type {\n",
              "        vertical-align: middle;\n",
              "    }\n",
              "\n",
              "    .dataframe tbody tr th {\n",
              "        vertical-align: top;\n",
              "    }\n",
              "\n",
              "    .dataframe thead th {\n",
              "        text-align: right;\n",
              "    }\n",
              "</style>\n",
              "<table border=\"1\" class=\"dataframe\">\n",
              "  <thead>\n",
              "    <tr style=\"text-align: right;\">\n",
              "      <th></th>\n",
              "      <th>title</th>\n",
              "      <th>company</th>\n",
              "      <th>description</th>\n",
              "      <th>onsite_remote</th>\n",
              "      <th>salary</th>\n",
              "      <th>location</th>\n",
              "      <th>criteria</th>\n",
              "      <th>posted_date</th>\n",
              "      <th>link</th>\n",
              "    </tr>\n",
              "  </thead>\n",
              "  <tbody>\n",
              "    <tr>\n",
              "      <th>0</th>\n",
              "      <td>Data Analyst - Recent Graduate</td>\n",
              "      <td>PayPal</td>\n",
              "      <td>At PayPal (NASDAQ: PYPL), we believe that ever...</td>\n",
              "      <td>onsite</td>\n",
              "      <td>NaN</td>\n",
              "      <td>Buffalo-Niagara Falls Area</td>\n",
              "      <td>[{'Seniority level': 'Not Applicable'}, {'Empl...</td>\n",
              "      <td>2022-11-22</td>\n",
              "      <td>https://www.linkedin.com/jobs/view/data-analys...</td>\n",
              "    </tr>\n",
              "    <tr>\n",
              "      <th>1</th>\n",
              "      <td>Data Analyst - Recent Graduate</td>\n",
              "      <td>PayPal</td>\n",
              "      <td>At PayPal (NASDAQ: PYPL), we believe that ever...</td>\n",
              "      <td>onsite</td>\n",
              "      <td>NaN</td>\n",
              "      <td>San Jose, CA</td>\n",
              "      <td>[{'Seniority level': 'Not Applicable'}, {'Empl...</td>\n",
              "      <td>2022-11-22</td>\n",
              "      <td>https://www.linkedin.com/jobs/view/data-analys...</td>\n",
              "    </tr>\n",
              "    <tr>\n",
              "      <th>2</th>\n",
              "      <td>Data Analyst</td>\n",
              "      <td>PayPal</td>\n",
              "      <td>At PayPal (NASDAQ: PYPL), we believe that ever...</td>\n",
              "      <td>onsite</td>\n",
              "      <td>NaN</td>\n",
              "      <td>Texas, United States</td>\n",
              "      <td>[{'Seniority level': 'Not Applicable'}, {'Empl...</td>\n",
              "      <td>2022-11-17</td>\n",
              "      <td>https://www.linkedin.com/jobs/view/data-analys...</td>\n",
              "    </tr>\n",
              "    <tr>\n",
              "      <th>3</th>\n",
              "      <td>Data Analyst</td>\n",
              "      <td>PayPal</td>\n",
              "      <td>At PayPal (NASDAQ: PYPL), we believe that ever...</td>\n",
              "      <td>onsite</td>\n",
              "      <td>NaN</td>\n",
              "      <td>Illinois, United States</td>\n",
              "      <td>[{'Seniority level': 'Not Applicable'}, {'Empl...</td>\n",
              "      <td>2022-11-17</td>\n",
              "      <td>https://www.linkedin.com/jobs/view/data-analys...</td>\n",
              "    </tr>\n",
              "    <tr>\n",
              "      <th>4</th>\n",
              "      <td>Entry-Level Data Analyst</td>\n",
              "      <td>The Federal Savings Bank</td>\n",
              "      <td>The Federal Savings Bank, a national bank and ...</td>\n",
              "      <td>onsite</td>\n",
              "      <td>NaN</td>\n",
              "      <td>Chicago, IL</td>\n",
              "      <td>[{'Seniority level': 'Entry level'}, {'Employm...</td>\n",
              "      <td>2022-11-17</td>\n",
              "      <td>https://www.linkedin.com/jobs/view/entry-level...</td>\n",
              "    </tr>\n",
              "  </tbody>\n",
              "</table>\n",
              "</div>\n",
              "    <div class=\"colab-df-buttons\">\n",
              "\n",
              "  <div class=\"colab-df-container\">\n",
              "    <button class=\"colab-df-convert\" onclick=\"convertToInteractive('df-e89aca43-efcf-4957-82bd-0fe87ce82092')\"\n",
              "            title=\"Convert this dataframe to an interactive table.\"\n",
              "            style=\"display:none;\">\n",
              "\n",
              "  <svg xmlns=\"http://www.w3.org/2000/svg\" height=\"24px\" viewBox=\"0 -960 960 960\">\n",
              "    <path d=\"M120-120v-720h720v720H120Zm60-500h600v-160H180v160Zm220 220h160v-160H400v160Zm0 220h160v-160H400v160ZM180-400h160v-160H180v160Zm440 0h160v-160H620v160ZM180-180h160v-160H180v160Zm440 0h160v-160H620v160Z\"/>\n",
              "  </svg>\n",
              "    </button>\n",
              "\n",
              "  <style>\n",
              "    .colab-df-container {\n",
              "      display:flex;\n",
              "      gap: 12px;\n",
              "    }\n",
              "\n",
              "    .colab-df-convert {\n",
              "      background-color: #E8F0FE;\n",
              "      border: none;\n",
              "      border-radius: 50%;\n",
              "      cursor: pointer;\n",
              "      display: none;\n",
              "      fill: #1967D2;\n",
              "      height: 32px;\n",
              "      padding: 0 0 0 0;\n",
              "      width: 32px;\n",
              "    }\n",
              "\n",
              "    .colab-df-convert:hover {\n",
              "      background-color: #E2EBFA;\n",
              "      box-shadow: 0px 1px 2px rgba(60, 64, 67, 0.3), 0px 1px 3px 1px rgba(60, 64, 67, 0.15);\n",
              "      fill: #174EA6;\n",
              "    }\n",
              "\n",
              "    .colab-df-buttons div {\n",
              "      margin-bottom: 4px;\n",
              "    }\n",
              "\n",
              "    [theme=dark] .colab-df-convert {\n",
              "      background-color: #3B4455;\n",
              "      fill: #D2E3FC;\n",
              "    }\n",
              "\n",
              "    [theme=dark] .colab-df-convert:hover {\n",
              "      background-color: #434B5C;\n",
              "      box-shadow: 0px 1px 3px 1px rgba(0, 0, 0, 0.15);\n",
              "      filter: drop-shadow(0px 1px 2px rgba(0, 0, 0, 0.3));\n",
              "      fill: #FFFFFF;\n",
              "    }\n",
              "  </style>\n",
              "\n",
              "    <script>\n",
              "      const buttonEl =\n",
              "        document.querySelector('#df-e89aca43-efcf-4957-82bd-0fe87ce82092 button.colab-df-convert');\n",
              "      buttonEl.style.display =\n",
              "        google.colab.kernel.accessAllowed ? 'block' : 'none';\n",
              "\n",
              "      async function convertToInteractive(key) {\n",
              "        const element = document.querySelector('#df-e89aca43-efcf-4957-82bd-0fe87ce82092');\n",
              "        const dataTable =\n",
              "          await google.colab.kernel.invokeFunction('convertToInteractive',\n",
              "                                                    [key], {});\n",
              "        if (!dataTable) return;\n",
              "\n",
              "        const docLinkHtml = 'Like what you see? Visit the ' +\n",
              "          '<a target=\"_blank\" href=https://colab.research.google.com/notebooks/data_table.ipynb>data table notebook</a>'\n",
              "          + ' to learn more about interactive tables.';\n",
              "        element.innerHTML = '';\n",
              "        dataTable['output_type'] = 'display_data';\n",
              "        await google.colab.output.renderOutput(dataTable, element);\n",
              "        const docLink = document.createElement('div');\n",
              "        docLink.innerHTML = docLinkHtml;\n",
              "        element.appendChild(docLink);\n",
              "      }\n",
              "    </script>\n",
              "  </div>\n",
              "\n",
              "\n",
              "<div id=\"df-9499a1a2-30a6-49b0-ba93-f816a08bafd6\">\n",
              "  <button class=\"colab-df-quickchart\" onclick=\"quickchart('df-9499a1a2-30a6-49b0-ba93-f816a08bafd6')\"\n",
              "            title=\"Suggest charts\"\n",
              "            style=\"display:none;\">\n",
              "\n",
              "<svg xmlns=\"http://www.w3.org/2000/svg\" height=\"24px\"viewBox=\"0 0 24 24\"\n",
              "     width=\"24px\">\n",
              "    <g>\n",
              "        <path d=\"M19 3H5c-1.1 0-2 .9-2 2v14c0 1.1.9 2 2 2h14c1.1 0 2-.9 2-2V5c0-1.1-.9-2-2-2zM9 17H7v-7h2v7zm4 0h-2V7h2v10zm4 0h-2v-4h2v4z\"/>\n",
              "    </g>\n",
              "</svg>\n",
              "  </button>\n",
              "\n",
              "<style>\n",
              "  .colab-df-quickchart {\n",
              "      --bg-color: #E8F0FE;\n",
              "      --fill-color: #1967D2;\n",
              "      --hover-bg-color: #E2EBFA;\n",
              "      --hover-fill-color: #174EA6;\n",
              "      --disabled-fill-color: #AAA;\n",
              "      --disabled-bg-color: #DDD;\n",
              "  }\n",
              "\n",
              "  [theme=dark] .colab-df-quickchart {\n",
              "      --bg-color: #3B4455;\n",
              "      --fill-color: #D2E3FC;\n",
              "      --hover-bg-color: #434B5C;\n",
              "      --hover-fill-color: #FFFFFF;\n",
              "      --disabled-bg-color: #3B4455;\n",
              "      --disabled-fill-color: #666;\n",
              "  }\n",
              "\n",
              "  .colab-df-quickchart {\n",
              "    background-color: var(--bg-color);\n",
              "    border: none;\n",
              "    border-radius: 50%;\n",
              "    cursor: pointer;\n",
              "    display: none;\n",
              "    fill: var(--fill-color);\n",
              "    height: 32px;\n",
              "    padding: 0;\n",
              "    width: 32px;\n",
              "  }\n",
              "\n",
              "  .colab-df-quickchart:hover {\n",
              "    background-color: var(--hover-bg-color);\n",
              "    box-shadow: 0 1px 2px rgba(60, 64, 67, 0.3), 0 1px 3px 1px rgba(60, 64, 67, 0.15);\n",
              "    fill: var(--button-hover-fill-color);\n",
              "  }\n",
              "\n",
              "  .colab-df-quickchart-complete:disabled,\n",
              "  .colab-df-quickchart-complete:disabled:hover {\n",
              "    background-color: var(--disabled-bg-color);\n",
              "    fill: var(--disabled-fill-color);\n",
              "    box-shadow: none;\n",
              "  }\n",
              "\n",
              "  .colab-df-spinner {\n",
              "    border: 2px solid var(--fill-color);\n",
              "    border-color: transparent;\n",
              "    border-bottom-color: var(--fill-color);\n",
              "    animation:\n",
              "      spin 1s steps(1) infinite;\n",
              "  }\n",
              "\n",
              "  @keyframes spin {\n",
              "    0% {\n",
              "      border-color: transparent;\n",
              "      border-bottom-color: var(--fill-color);\n",
              "      border-left-color: var(--fill-color);\n",
              "    }\n",
              "    20% {\n",
              "      border-color: transparent;\n",
              "      border-left-color: var(--fill-color);\n",
              "      border-top-color: var(--fill-color);\n",
              "    }\n",
              "    30% {\n",
              "      border-color: transparent;\n",
              "      border-left-color: var(--fill-color);\n",
              "      border-top-color: var(--fill-color);\n",
              "      border-right-color: var(--fill-color);\n",
              "    }\n",
              "    40% {\n",
              "      border-color: transparent;\n",
              "      border-right-color: var(--fill-color);\n",
              "      border-top-color: var(--fill-color);\n",
              "    }\n",
              "    60% {\n",
              "      border-color: transparent;\n",
              "      border-right-color: var(--fill-color);\n",
              "    }\n",
              "    80% {\n",
              "      border-color: transparent;\n",
              "      border-right-color: var(--fill-color);\n",
              "      border-bottom-color: var(--fill-color);\n",
              "    }\n",
              "    90% {\n",
              "      border-color: transparent;\n",
              "      border-bottom-color: var(--fill-color);\n",
              "    }\n",
              "  }\n",
              "</style>\n",
              "\n",
              "  <script>\n",
              "    async function quickchart(key) {\n",
              "      const quickchartButtonEl =\n",
              "        document.querySelector('#' + key + ' button');\n",
              "      quickchartButtonEl.disabled = true;  // To prevent multiple clicks.\n",
              "      quickchartButtonEl.classList.add('colab-df-spinner');\n",
              "      try {\n",
              "        const charts = await google.colab.kernel.invokeFunction(\n",
              "            'suggestCharts', [key], {});\n",
              "      } catch (error) {\n",
              "        console.error('Error during call to suggestCharts:', error);\n",
              "      }\n",
              "      quickchartButtonEl.classList.remove('colab-df-spinner');\n",
              "      quickchartButtonEl.classList.add('colab-df-quickchart-complete');\n",
              "    }\n",
              "    (() => {\n",
              "      let quickchartButtonEl =\n",
              "        document.querySelector('#df-9499a1a2-30a6-49b0-ba93-f816a08bafd6 button');\n",
              "      quickchartButtonEl.style.display =\n",
              "        google.colab.kernel.accessAllowed ? 'block' : 'none';\n",
              "    })();\n",
              "  </script>\n",
              "</div>\n",
              "\n",
              "    </div>\n",
              "  </div>\n"
            ],
            "application/vnd.google.colaboratory.intrinsic+json": {
              "type": "dataframe",
              "variable_name": "usa_df",
              "summary": "{\n  \"name\": \"usa_df\",\n  \"rows\": 2845,\n  \"fields\": [\n    {\n      \"column\": \"title\",\n      \"properties\": {\n        \"dtype\": \"category\",\n        \"num_unique_values\": 37,\n        \"samples\": [\n          \"REMOTE Data Analyst (SQL, Operations)\",\n          \"SQL Data Analyst\",\n          \"Data Analytics Analyst\"\n        ],\n        \"semantic_type\": \"\",\n        \"description\": \"\"\n      }\n    },\n    {\n      \"column\": \"company\",\n      \"properties\": {\n        \"dtype\": \"category\",\n        \"num_unique_values\": 171,\n        \"samples\": [\n          \"OneAmerica\",\n          \"Precision Technologies\",\n          \"Tsunami Express Car Wash\"\n        ],\n        \"semantic_type\": \"\",\n        \"description\": \"\"\n      }\n    },\n    {\n      \"column\": \"description\",\n      \"properties\": {\n        \"dtype\": \"category\",\n        \"num_unique_values\": 199,\n        \"samples\": [\n          \"Better Choice Company is seeking a Data Analyst to support the Finance function. The position will be responsible for supporting data integrity initiatives, and partnering cross-functionally to assist in financial reporting, business analysis, and data automation projects.Primary Responsibilities\\u25cf Ownership of company financial and statistical data integrity including assurance of complete and correct data for items and customers in all company systems including NetSuite (ERP), Adaptive (Budgeting software), and Power BI (Business Intelligence).\\u25cf Work cross-functionally with Sales, Operations, and Finance to ensure complete and accurate data for all aspects of the business.\\u25cf Validation and reconciliation of data between NetSuite (ERP) and Power BI, including sales, orders, and customers.\\u25cf Manage large lists of detailed product information (descriptions, prices, weights, bill of materials, and other key product information).\\u25cf Create properly formatted and accurate upload files for data updates.\\u25cf Create and analyze reports that will assist all departments in decision-making.QualificationsBS/BA degree in Business, Finance, Economics, or related field experience in lieu of degree accepted. Must be able to build and manage data integrity processes and report on data accuracyAdvanced Microsoft Excel skillsRequired SkillsExperience working with data and Microsoft Excel; working experience with PowerBI, NetSuite, or Adaptive Insights software is a plusExcellent attention to detail, well organizedExcellent communication, presentation, and project management skillsHighly collaborative work style and ability to multi-task and work under pressure with multiple deadlinesWillingness to take on responsibility above stated role and complete more executional work when needed (startup culture)\",\n          \"JOB PURPOSE: The Data Analyst provides strategic and tactical support to Charter Schools USA (CSUSA) by collecting, analyzing, and interpreting data to improve decision-making and business practices. The Data Analyst will collaborate within a growing team of analysts to develop and test hypotheses and conduct research and root cause analyses to improve processes and evaluate CSUSA's effectiveness.Essential Duties And ResponsibilitiesWork with departments and schools to identify analytical requirementsDevelop rules and methodologies for effective data managementCollect and interpret quantitative and qualitative data using a variety of techniques, ranging from descriptive analyses to complex data mining and inferential statistics.Maintain demographic profiles of all entities and use to identify meaningful customer/market segments and inform decision-making.Monitor and analyze market and consumer headwinds and demographics along with proprietorial data to guide strategies and provide forecastsCollect and analyze marketing and enrollment data to evaluate, create hypotheses, and provide recommendations to improve and optimize strategies. Validate data and manage data integrity issues and resolutions. Analyze systems data to identify errors and inconsistencies. Analyze data and recognize process improvements, which affect data integrity.Develop reports, summaries and briefing books for various entities including business units, national, states, schools, and governing boards; presenting data and findings to stakeholders, discussing implications, and establishing action items. Work with departments and business units to define needs for data warehouse development or queries to support reporting and analytics.Generate reports and presentations that support business units and inform academic, enrollment, marketing and PR strategies.Interface with Student and Business Systems Managers and Developers to ensure data integrity and design effective reports.Provide guidance on survey instruments to ensure data is actionable.Work with departments and schools to design and implement performance dashboards.Work with Data team to maintain performance results for schools, departments, and the company as a whole through reporting and data visualization software.Research performance metrics in best-in-class organizations to generate company comparison data and conduct competitive analyses. Use these analyses to inform goal setting and decision-making.Develop and test hypotheses to validate performance leading indicators.Conduct research and identify root cause analyses to support continuous improvement efforts.Support the team in maintaining and communicating the reporting calendar to stakeholders.MAY PERFORM OTHER DUTIES AS ASSIGNED**DISCLAIMERThe above statements are intended to describe the general nature and level of work being performed by people assigned to this job. They are not intended to be an exhaustive list of all responsibilities, duties and skills required of personnel so classified.Skills, Knowledge And AttributesDetail oriented with strong project management and analytical skills.Ability to multitask and prioritize assignments.Strong interpersonal and customer service skills.Demonstrates excellent oral (including training and presentations) skills and writing abilities.Ability to negotiate and influence.Works well in teams and demonstrates collegiality and professionalism with other departments.Is self-directed, proactive and takes initiative; thinks creatively; drives projects to completion.Gives high attention to detail and insists on the highest level of quality.Thrives in a fast-paced environment. Ability to ramp up on new material extremely quickly.Works well independently under pressure; and meets deadlines.Develop working knowledge of company and it's direction/strategy.WORK ENVIRONMENTThe work environment characteristics described here are representative of those an employee encounters while performing the essential functions of this job. Reasonable accommodations may be made to enable individuals with disabilities to perform the essential functions.Usual office working conditions.PHYSICAL DEMANDSNo physical exertion required.Travel within or outside of Florida.Light work: Exerting up to 20 pounds of force occasionally, and/or up to 10 pounds of force as frequently as needed to move objects.TERMS OF EMPLOYMENTSalary and benefits shall be paid consistent with CSUSA salary and benefit policy. Length of the work year and hours of employment shall be those established by Charter Schools USA.FLSA OVERTIME CATEGORYJob is exempt and not subject to overtime provisions of the Fair Labor Standards Act.EVALUATIONPerformance will be evaluated in accordance with Charter Schools USA's policy.DECLARATIONThe Human Resource Department retains the sole right and discretion to make changes to this job description. Any employee making changes unauthorized by the CEO or the Human Resources Department will be subject to disciplinary action up to and including termination.Job RequirementsBachelor's degree from an accredited institution or equivalent experience. Major in mathematics, statistics, business, computer science, and/or management information systems preferredMaster's degree preferred.3+ years of work experience in a relevant position.Data Visualization software experience such as Tableau and Power BI is requiredPython scripting (knowledge) preferredMarketing data knowledge, mining such as Google and Meta/Facebook Analytics is preferredExperience in K-12 education industry preferred.Knowledge of statistics required.Advanced MS Word, PowerPoint, Visio, Excel and Access required.Experience with SQL Server, SPSS, STATA, R, GIS and/or similar tools required.Knowledge of data analysis tools and computer systems technology.Business intelligence analytics and advanced statistics preferred.Familiarity with education outcomes preferred.Understanding of national education policy issues.Passion for urban education reform and unwavering belief that all children can learn.Professional appearance and telephone manner is essential.Commitment to company values.Such alternatives to the above requirements as CSUSA may find appropriate and acceptable.\",\n          \"Data AnalystExciting Data Analyst opportunity with one of IDR's top clients! The Data Analyst will be required to discover, analyze, profile and document findings on source data systems. They will create source to target mappings using business rules to transform data and assist the development team during the development phase to resolve data issues and understand data constraints. They will create and maintain data sets for Data Mining and Predictive Analytics.Apply now to stay competitive!Needed Experience:Must have bachelor\\u2019s degree 10+ years\\u2019 professional experience as a Data Analyst10+ years\\u2019 professional experience with SQLExcellent communicationWhy IDR?20+ Years of Proven Industry Experience in all major marketsEmployee Stock Ownership ProgramDedicated Engagement Manager who is committed to you and your successMedical, Dental, Vision, and Life InsuranceClearlyRated\\u2019s Best of Staffing\\u00ae Client and Talent Award winner 6 years in a row\"\n        ],\n        \"semantic_type\": \"\",\n        \"description\": \"\"\n      }\n    },\n    {\n      \"column\": \"onsite_remote\",\n      \"properties\": {\n        \"dtype\": \"category\",\n        \"num_unique_values\": 3,\n        \"samples\": [\n          \"onsite\",\n          \"remote\",\n          \"hybrid\"\n        ],\n        \"semantic_type\": \"\",\n        \"description\": \"\"\n      }\n    },\n    {\n      \"column\": \"salary\",\n      \"properties\": {\n        \"dtype\": \"category\",\n        \"num_unique_values\": 45,\n        \"samples\": [\n          \"$120,000.00\\r\\n            -\\r\\n            $150,000.00\",\n          \"$73,036.00\\r\\n            -\\r\\n            $105,901.00\",\n          \"$75,000.00\\r\\n            -\\r\\n            $90,000.00\"\n        ],\n        \"semantic_type\": \"\",\n        \"description\": \"\"\n      }\n    },\n    {\n      \"column\": \"location\",\n      \"properties\": {\n        \"dtype\": \"category\",\n        \"num_unique_values\": 112,\n        \"samples\": [\n          \"Tampa, FL\",\n          \"Kansas City Metropolitan Area\",\n          \"Chicago, IL\"\n        ],\n        \"semantic_type\": \"\",\n        \"description\": \"\"\n      }\n    },\n    {\n      \"column\": \"criteria\",\n      \"properties\": {\n        \"dtype\": \"category\",\n        \"num_unique_values\": 138,\n        \"samples\": [\n          \"[{'Seniority level': 'Mid-Senior level'}, {'Employment type': 'Full-time'}, {'Job function': 'Information Technology and Engineering'}, {'Industries': 'Insurance and Investment Management'}]\",\n          \"[{'Seniority level': 'Mid-Senior level'}, {'Employment type': 'Full-time'}, {'Job function': 'Information Technology'}, {'Industries': 'Entertainment Providers and Hospitals and Health Care'}]\",\n          \"[{'Seniority level': 'Entry level'}, {'Employment type': 'Full-time'}, {'Job function': 'Analyst, Information Technology, and Project Management'}, {'Industries': 'Business Consulting and Services'}]\"\n        ],\n        \"semantic_type\": \"\",\n        \"description\": \"\"\n      }\n    },\n    {\n      \"column\": \"posted_date\",\n      \"properties\": {\n        \"dtype\": \"object\",\n        \"num_unique_values\": 33,\n        \"samples\": [\n          \"2022-10-04\",\n          \"2022-10-26\",\n          \"2022-10-23\"\n        ],\n        \"semantic_type\": \"\",\n        \"description\": \"\"\n      }\n    },\n    {\n      \"column\": \"link\",\n      \"properties\": {\n        \"dtype\": \"string\",\n        \"num_unique_values\": 2845,\n        \"samples\": [\n          \"https://www.linkedin.com/jobs/view/data-analyst-at-paypal-3357037326?refId=6fPkiBa5Tkn%2F8pQolLx9Rg%3D%3D&trackingId=AberJiFgnVyYi%2FnZScnLTQ%3D%3D&position=16&pageNum=0&trk=public_jobs_jserp-result_search-card\",\n          \"https://www.linkedin.com/jobs/view/data-analyst-at-averity-3366784312?refId=4gL4T4Y7NDmrfUgE%2FX1kCw%3D%3D&trackingId=evuyV3wQZS%2B1ttaWSmbzGQ%3D%3D&position=14&pageNum=0&trk=public_jobs_jserp-result_search-card\",\n          \"https://www.linkedin.com/jobs/view/data-analyst-at-blend360-3327602222?refId=yvwmX%2BMvIFr3ph5yrdr8gQ%3D%3D&trackingId=kyHduVyPnUPBBDqzR2neSQ%3D%3D&position=25&pageNum=0&trk=public_jobs_jserp-result_search-card\"\n        ],\n        \"semantic_type\": \"\",\n        \"description\": \"\"\n      }\n    }\n  ]\n}"
            }
          },
          "metadata": {},
          "execution_count": 4
        }
      ],
      "source": [
        "usa_df.head()"
      ]
    },
    {
      "cell_type": "code",
      "execution_count": 5,
      "id": "c8ceac8a",
      "metadata": {
        "execution": {
          "iopub.execute_input": "2023-05-18T10:03:38.371302Z",
          "iopub.status.busy": "2023-05-18T10:03:38.370285Z",
          "iopub.status.idle": "2023-05-18T10:03:38.376853Z",
          "shell.execute_reply": "2023-05-18T10:03:38.375978Z"
        },
        "papermill": {
          "duration": 0.021722,
          "end_time": "2023-05-18T10:03:38.379150",
          "exception": false,
          "start_time": "2023-05-18T10:03:38.357428",
          "status": "completed"
        },
        "tags": [],
        "colab": {
          "base_uri": "https://localhost:8080/"
        },
        "id": "c8ceac8a",
        "outputId": "ab0e387e-d8a0-48dd-b53c-f0f9bc2c8f4a"
      },
      "outputs": [
        {
          "output_type": "execute_result",
          "data": {
            "text/plain": [
              "Index(['title', 'company', 'description', 'onsite_remote', 'salary',\n",
              "       'location', 'criteria', 'posted_date', 'link'],\n",
              "      dtype='object')"
            ]
          },
          "metadata": {},
          "execution_count": 5
        }
      ],
      "source": [
        "usa_df.columns"
      ]
    },
    {
      "cell_type": "code",
      "execution_count": 6,
      "id": "fc63fe8f",
      "metadata": {
        "execution": {
          "iopub.execute_input": "2023-05-18T10:03:38.405198Z",
          "iopub.status.busy": "2023-05-18T10:03:38.404413Z",
          "iopub.status.idle": "2023-05-18T10:03:38.410359Z",
          "shell.execute_reply": "2023-05-18T10:03:38.409505Z"
        },
        "papermill": {
          "duration": 0.021479,
          "end_time": "2023-05-18T10:03:38.412617",
          "exception": false,
          "start_time": "2023-05-18T10:03:38.391138",
          "status": "completed"
        },
        "tags": [],
        "colab": {
          "base_uri": "https://localhost:8080/"
        },
        "id": "fc63fe8f",
        "outputId": "04f2d680-af84-4aa9-bc5d-90fa95ae2385"
      },
      "outputs": [
        {
          "output_type": "execute_result",
          "data": {
            "text/plain": [
              "(2845, 9)"
            ]
          },
          "metadata": {},
          "execution_count": 6
        }
      ],
      "source": [
        "usa_df.shape"
      ]
    },
    {
      "cell_type": "code",
      "execution_count": 7,
      "id": "24e7d6f8",
      "metadata": {
        "execution": {
          "iopub.execute_input": "2023-05-18T10:03:38.438784Z",
          "iopub.status.busy": "2023-05-18T10:03:38.438393Z",
          "iopub.status.idle": "2023-05-18T10:03:38.479682Z",
          "shell.execute_reply": "2023-05-18T10:03:38.478309Z"
        },
        "papermill": {
          "duration": 0.057991,
          "end_time": "2023-05-18T10:03:38.482745",
          "exception": false,
          "start_time": "2023-05-18T10:03:38.424754",
          "status": "completed"
        },
        "tags": [],
        "colab": {
          "base_uri": "https://localhost:8080/"
        },
        "id": "24e7d6f8",
        "outputId": "baea7497-8792-4e3b-e1f1-756680b6bd9c"
      },
      "outputs": [
        {
          "output_type": "stream",
          "name": "stdout",
          "text": [
            "<class 'pandas.core.frame.DataFrame'>\n",
            "RangeIndex: 2845 entries, 0 to 2844\n",
            "Data columns (total 9 columns):\n",
            " #   Column         Non-Null Count  Dtype \n",
            "---  ------         --------------  ----- \n",
            " 0   title          2845 non-null   object\n",
            " 1   company        2845 non-null   object\n",
            " 2   description    2845 non-null   object\n",
            " 3   onsite_remote  2845 non-null   object\n",
            " 4   salary         929 non-null    object\n",
            " 5   location       2845 non-null   object\n",
            " 6   criteria       2845 non-null   object\n",
            " 7   posted_date    2845 non-null   object\n",
            " 8   link           2845 non-null   object\n",
            "dtypes: object(9)\n",
            "memory usage: 200.2+ KB\n"
          ]
        }
      ],
      "source": [
        "usa_df.info()"
      ]
    },
    {
      "cell_type": "code",
      "execution_count": 8,
      "id": "a2cf1bb0",
      "metadata": {
        "execution": {
          "iopub.execute_input": "2023-05-18T10:03:38.508917Z",
          "iopub.status.busy": "2023-05-18T10:03:38.508462Z",
          "iopub.status.idle": "2023-05-18T10:03:38.519777Z",
          "shell.execute_reply": "2023-05-18T10:03:38.518924Z"
        },
        "papermill": {
          "duration": 0.027038,
          "end_time": "2023-05-18T10:03:38.522091",
          "exception": false,
          "start_time": "2023-05-18T10:03:38.495053",
          "status": "completed"
        },
        "tags": [],
        "colab": {
          "base_uri": "https://localhost:8080/"
        },
        "id": "a2cf1bb0",
        "outputId": "eae82bba-8bd4-4f39-db79-db448f906b4c"
      },
      "outputs": [
        {
          "output_type": "execute_result",
          "data": {
            "text/plain": [
              "dtype('<M8[ns]')"
            ]
          },
          "metadata": {},
          "execution_count": 8
        }
      ],
      "source": [
        "# Converting Posted_date to date_time type\n",
        "\n",
        "usa_df['posted_date']=pd.to_datetime(usa_df['posted_date'])\n",
        "usa_df['posted_date'].dtypes"
      ]
    },
    {
      "cell_type": "code",
      "execution_count": 9,
      "id": "3404a50e",
      "metadata": {
        "execution": {
          "iopub.execute_input": "2023-05-18T10:03:38.549057Z",
          "iopub.status.busy": "2023-05-18T10:03:38.548320Z",
          "iopub.status.idle": "2023-05-18T10:03:38.564557Z",
          "shell.execute_reply": "2023-05-18T10:03:38.563337Z"
        },
        "papermill": {
          "duration": 0.032967,
          "end_time": "2023-05-18T10:03:38.567346",
          "exception": false,
          "start_time": "2023-05-18T10:03:38.534379",
          "status": "completed"
        },
        "tags": [],
        "colab": {
          "base_uri": "https://localhost:8080/",
          "height": 366
        },
        "id": "3404a50e",
        "outputId": "0b34b817-91a1-463b-d117-8b9dd13b052d"
      },
      "outputs": [
        {
          "output_type": "execute_result",
          "data": {
            "text/plain": [
              "title               0\n",
              "company             0\n",
              "description         0\n",
              "onsite_remote       0\n",
              "salary           1916\n",
              "location            0\n",
              "criteria            0\n",
              "posted_date         0\n",
              "link                0\n",
              "dtype: int64"
            ],
            "text/html": [
              "<div>\n",
              "<style scoped>\n",
              "    .dataframe tbody tr th:only-of-type {\n",
              "        vertical-align: middle;\n",
              "    }\n",
              "\n",
              "    .dataframe tbody tr th {\n",
              "        vertical-align: top;\n",
              "    }\n",
              "\n",
              "    .dataframe thead th {\n",
              "        text-align: right;\n",
              "    }\n",
              "</style>\n",
              "<table border=\"1\" class=\"dataframe\">\n",
              "  <thead>\n",
              "    <tr style=\"text-align: right;\">\n",
              "      <th></th>\n",
              "      <th>0</th>\n",
              "    </tr>\n",
              "  </thead>\n",
              "  <tbody>\n",
              "    <tr>\n",
              "      <th>title</th>\n",
              "      <td>0</td>\n",
              "    </tr>\n",
              "    <tr>\n",
              "      <th>company</th>\n",
              "      <td>0</td>\n",
              "    </tr>\n",
              "    <tr>\n",
              "      <th>description</th>\n",
              "      <td>0</td>\n",
              "    </tr>\n",
              "    <tr>\n",
              "      <th>onsite_remote</th>\n",
              "      <td>0</td>\n",
              "    </tr>\n",
              "    <tr>\n",
              "      <th>salary</th>\n",
              "      <td>1916</td>\n",
              "    </tr>\n",
              "    <tr>\n",
              "      <th>location</th>\n",
              "      <td>0</td>\n",
              "    </tr>\n",
              "    <tr>\n",
              "      <th>criteria</th>\n",
              "      <td>0</td>\n",
              "    </tr>\n",
              "    <tr>\n",
              "      <th>posted_date</th>\n",
              "      <td>0</td>\n",
              "    </tr>\n",
              "    <tr>\n",
              "      <th>link</th>\n",
              "      <td>0</td>\n",
              "    </tr>\n",
              "  </tbody>\n",
              "</table>\n",
              "</div><br><label><b>dtype:</b> int64</label>"
            ]
          },
          "metadata": {},
          "execution_count": 9
        }
      ],
      "source": [
        "#checking for null values\n",
        "usa_df.isnull().sum()"
      ]
    },
    {
      "cell_type": "code",
      "execution_count": 10,
      "id": "4681db1b",
      "metadata": {
        "execution": {
          "iopub.execute_input": "2023-05-18T10:03:38.595590Z",
          "iopub.status.busy": "2023-05-18T10:03:38.594953Z",
          "iopub.status.idle": "2023-05-18T10:03:38.627258Z",
          "shell.execute_reply": "2023-05-18T10:03:38.625967Z"
        },
        "papermill": {
          "duration": 0.049427,
          "end_time": "2023-05-18T10:03:38.630054",
          "exception": false,
          "start_time": "2023-05-18T10:03:38.580627",
          "status": "completed"
        },
        "tags": [],
        "colab": {
          "base_uri": "https://localhost:8080/"
        },
        "id": "4681db1b",
        "outputId": "2a7be249-e3fe-40dd-840d-9ce02a6e5e9f"
      },
      "outputs": [
        {
          "output_type": "execute_result",
          "data": {
            "text/plain": [
              "0"
            ]
          },
          "metadata": {},
          "execution_count": 10
        }
      ],
      "source": [
        "#checking for duplicate values\n",
        "usa_df.duplicated().sum()"
      ]
    },
    {
      "cell_type": "markdown",
      "id": "695bd009",
      "metadata": {
        "papermill": {
          "duration": 0.012437,
          "end_time": "2023-05-18T10:03:38.655606",
          "exception": false,
          "start_time": "2023-05-18T10:03:38.643169",
          "status": "completed"
        },
        "tags": [],
        "id": "695bd009"
      },
      "source": [
        "### Mimum Median Salary And Maximum Median Salary"
      ]
    },
    {
      "cell_type": "code",
      "execution_count": 11,
      "id": "c67e9508",
      "metadata": {
        "execution": {
          "iopub.execute_input": "2023-05-18T10:03:38.683451Z",
          "iopub.status.busy": "2023-05-18T10:03:38.682744Z",
          "iopub.status.idle": "2023-05-18T10:03:38.713695Z",
          "shell.execute_reply": "2023-05-18T10:03:38.712493Z"
        },
        "papermill": {
          "duration": 0.048228,
          "end_time": "2023-05-18T10:03:38.716499",
          "exception": false,
          "start_time": "2023-05-18T10:03:38.668271",
          "status": "completed"
        },
        "tags": [],
        "colab": {
          "base_uri": "https://localhost:8080/",
          "height": 300
        },
        "id": "c67e9508",
        "outputId": "f9aad113-b1d3-4d8b-be8b-59b6c6c2cd5d"
      },
      "outputs": [
        {
          "output_type": "execute_result",
          "data": {
            "text/plain": [
              "       minimum_salary  maximum_salary\n",
              "count      498.000000      498.000000\n",
              "mean     89169.196787   108798.263052\n",
              "std      22625.837194    24830.283708\n",
              "min      50000.000000    55000.000000\n",
              "25%      73036.000000    90000.000000\n",
              "50%      80000.000000   105901.000000\n",
              "75%     100000.000000   127500.000000\n",
              "max     130000.000000   155000.000000"
            ],
            "text/html": [
              "\n",
              "  <div id=\"df-fcde0bf4-9b5a-46fd-9fbf-6a6b9007fd6b\" class=\"colab-df-container\">\n",
              "    <div>\n",
              "<style scoped>\n",
              "    .dataframe tbody tr th:only-of-type {\n",
              "        vertical-align: middle;\n",
              "    }\n",
              "\n",
              "    .dataframe tbody tr th {\n",
              "        vertical-align: top;\n",
              "    }\n",
              "\n",
              "    .dataframe thead th {\n",
              "        text-align: right;\n",
              "    }\n",
              "</style>\n",
              "<table border=\"1\" class=\"dataframe\">\n",
              "  <thead>\n",
              "    <tr style=\"text-align: right;\">\n",
              "      <th></th>\n",
              "      <th>minimum_salary</th>\n",
              "      <th>maximum_salary</th>\n",
              "    </tr>\n",
              "  </thead>\n",
              "  <tbody>\n",
              "    <tr>\n",
              "      <th>count</th>\n",
              "      <td>498.000000</td>\n",
              "      <td>498.000000</td>\n",
              "    </tr>\n",
              "    <tr>\n",
              "      <th>mean</th>\n",
              "      <td>89169.196787</td>\n",
              "      <td>108798.263052</td>\n",
              "    </tr>\n",
              "    <tr>\n",
              "      <th>std</th>\n",
              "      <td>22625.837194</td>\n",
              "      <td>24830.283708</td>\n",
              "    </tr>\n",
              "    <tr>\n",
              "      <th>min</th>\n",
              "      <td>50000.000000</td>\n",
              "      <td>55000.000000</td>\n",
              "    </tr>\n",
              "    <tr>\n",
              "      <th>25%</th>\n",
              "      <td>73036.000000</td>\n",
              "      <td>90000.000000</td>\n",
              "    </tr>\n",
              "    <tr>\n",
              "      <th>50%</th>\n",
              "      <td>80000.000000</td>\n",
              "      <td>105901.000000</td>\n",
              "    </tr>\n",
              "    <tr>\n",
              "      <th>75%</th>\n",
              "      <td>100000.000000</td>\n",
              "      <td>127500.000000</td>\n",
              "    </tr>\n",
              "    <tr>\n",
              "      <th>max</th>\n",
              "      <td>130000.000000</td>\n",
              "      <td>155000.000000</td>\n",
              "    </tr>\n",
              "  </tbody>\n",
              "</table>\n",
              "</div>\n",
              "    <div class=\"colab-df-buttons\">\n",
              "\n",
              "  <div class=\"colab-df-container\">\n",
              "    <button class=\"colab-df-convert\" onclick=\"convertToInteractive('df-fcde0bf4-9b5a-46fd-9fbf-6a6b9007fd6b')\"\n",
              "            title=\"Convert this dataframe to an interactive table.\"\n",
              "            style=\"display:none;\">\n",
              "\n",
              "  <svg xmlns=\"http://www.w3.org/2000/svg\" height=\"24px\" viewBox=\"0 -960 960 960\">\n",
              "    <path d=\"M120-120v-720h720v720H120Zm60-500h600v-160H180v160Zm220 220h160v-160H400v160Zm0 220h160v-160H400v160ZM180-400h160v-160H180v160Zm440 0h160v-160H620v160ZM180-180h160v-160H180v160Zm440 0h160v-160H620v160Z\"/>\n",
              "  </svg>\n",
              "    </button>\n",
              "\n",
              "  <style>\n",
              "    .colab-df-container {\n",
              "      display:flex;\n",
              "      gap: 12px;\n",
              "    }\n",
              "\n",
              "    .colab-df-convert {\n",
              "      background-color: #E8F0FE;\n",
              "      border: none;\n",
              "      border-radius: 50%;\n",
              "      cursor: pointer;\n",
              "      display: none;\n",
              "      fill: #1967D2;\n",
              "      height: 32px;\n",
              "      padding: 0 0 0 0;\n",
              "      width: 32px;\n",
              "    }\n",
              "\n",
              "    .colab-df-convert:hover {\n",
              "      background-color: #E2EBFA;\n",
              "      box-shadow: 0px 1px 2px rgba(60, 64, 67, 0.3), 0px 1px 3px 1px rgba(60, 64, 67, 0.15);\n",
              "      fill: #174EA6;\n",
              "    }\n",
              "\n",
              "    .colab-df-buttons div {\n",
              "      margin-bottom: 4px;\n",
              "    }\n",
              "\n",
              "    [theme=dark] .colab-df-convert {\n",
              "      background-color: #3B4455;\n",
              "      fill: #D2E3FC;\n",
              "    }\n",
              "\n",
              "    [theme=dark] .colab-df-convert:hover {\n",
              "      background-color: #434B5C;\n",
              "      box-shadow: 0px 1px 3px 1px rgba(0, 0, 0, 0.15);\n",
              "      filter: drop-shadow(0px 1px 2px rgba(0, 0, 0, 0.3));\n",
              "      fill: #FFFFFF;\n",
              "    }\n",
              "  </style>\n",
              "\n",
              "    <script>\n",
              "      const buttonEl =\n",
              "        document.querySelector('#df-fcde0bf4-9b5a-46fd-9fbf-6a6b9007fd6b button.colab-df-convert');\n",
              "      buttonEl.style.display =\n",
              "        google.colab.kernel.accessAllowed ? 'block' : 'none';\n",
              "\n",
              "      async function convertToInteractive(key) {\n",
              "        const element = document.querySelector('#df-fcde0bf4-9b5a-46fd-9fbf-6a6b9007fd6b');\n",
              "        const dataTable =\n",
              "          await google.colab.kernel.invokeFunction('convertToInteractive',\n",
              "                                                    [key], {});\n",
              "        if (!dataTable) return;\n",
              "\n",
              "        const docLinkHtml = 'Like what you see? Visit the ' +\n",
              "          '<a target=\"_blank\" href=https://colab.research.google.com/notebooks/data_table.ipynb>data table notebook</a>'\n",
              "          + ' to learn more about interactive tables.';\n",
              "        element.innerHTML = '';\n",
              "        dataTable['output_type'] = 'display_data';\n",
              "        await google.colab.output.renderOutput(dataTable, element);\n",
              "        const docLink = document.createElement('div');\n",
              "        docLink.innerHTML = docLinkHtml;\n",
              "        element.appendChild(docLink);\n",
              "      }\n",
              "    </script>\n",
              "  </div>\n",
              "\n",
              "\n",
              "<div id=\"df-8567f407-7d9b-46c5-a04e-e73211adad67\">\n",
              "  <button class=\"colab-df-quickchart\" onclick=\"quickchart('df-8567f407-7d9b-46c5-a04e-e73211adad67')\"\n",
              "            title=\"Suggest charts\"\n",
              "            style=\"display:none;\">\n",
              "\n",
              "<svg xmlns=\"http://www.w3.org/2000/svg\" height=\"24px\"viewBox=\"0 0 24 24\"\n",
              "     width=\"24px\">\n",
              "    <g>\n",
              "        <path d=\"M19 3H5c-1.1 0-2 .9-2 2v14c0 1.1.9 2 2 2h14c1.1 0 2-.9 2-2V5c0-1.1-.9-2-2-2zM9 17H7v-7h2v7zm4 0h-2V7h2v10zm4 0h-2v-4h2v4z\"/>\n",
              "    </g>\n",
              "</svg>\n",
              "  </button>\n",
              "\n",
              "<style>\n",
              "  .colab-df-quickchart {\n",
              "      --bg-color: #E8F0FE;\n",
              "      --fill-color: #1967D2;\n",
              "      --hover-bg-color: #E2EBFA;\n",
              "      --hover-fill-color: #174EA6;\n",
              "      --disabled-fill-color: #AAA;\n",
              "      --disabled-bg-color: #DDD;\n",
              "  }\n",
              "\n",
              "  [theme=dark] .colab-df-quickchart {\n",
              "      --bg-color: #3B4455;\n",
              "      --fill-color: #D2E3FC;\n",
              "      --hover-bg-color: #434B5C;\n",
              "      --hover-fill-color: #FFFFFF;\n",
              "      --disabled-bg-color: #3B4455;\n",
              "      --disabled-fill-color: #666;\n",
              "  }\n",
              "\n",
              "  .colab-df-quickchart {\n",
              "    background-color: var(--bg-color);\n",
              "    border: none;\n",
              "    border-radius: 50%;\n",
              "    cursor: pointer;\n",
              "    display: none;\n",
              "    fill: var(--fill-color);\n",
              "    height: 32px;\n",
              "    padding: 0;\n",
              "    width: 32px;\n",
              "  }\n",
              "\n",
              "  .colab-df-quickchart:hover {\n",
              "    background-color: var(--hover-bg-color);\n",
              "    box-shadow: 0 1px 2px rgba(60, 64, 67, 0.3), 0 1px 3px 1px rgba(60, 64, 67, 0.15);\n",
              "    fill: var(--button-hover-fill-color);\n",
              "  }\n",
              "\n",
              "  .colab-df-quickchart-complete:disabled,\n",
              "  .colab-df-quickchart-complete:disabled:hover {\n",
              "    background-color: var(--disabled-bg-color);\n",
              "    fill: var(--disabled-fill-color);\n",
              "    box-shadow: none;\n",
              "  }\n",
              "\n",
              "  .colab-df-spinner {\n",
              "    border: 2px solid var(--fill-color);\n",
              "    border-color: transparent;\n",
              "    border-bottom-color: var(--fill-color);\n",
              "    animation:\n",
              "      spin 1s steps(1) infinite;\n",
              "  }\n",
              "\n",
              "  @keyframes spin {\n",
              "    0% {\n",
              "      border-color: transparent;\n",
              "      border-bottom-color: var(--fill-color);\n",
              "      border-left-color: var(--fill-color);\n",
              "    }\n",
              "    20% {\n",
              "      border-color: transparent;\n",
              "      border-left-color: var(--fill-color);\n",
              "      border-top-color: var(--fill-color);\n",
              "    }\n",
              "    30% {\n",
              "      border-color: transparent;\n",
              "      border-left-color: var(--fill-color);\n",
              "      border-top-color: var(--fill-color);\n",
              "      border-right-color: var(--fill-color);\n",
              "    }\n",
              "    40% {\n",
              "      border-color: transparent;\n",
              "      border-right-color: var(--fill-color);\n",
              "      border-top-color: var(--fill-color);\n",
              "    }\n",
              "    60% {\n",
              "      border-color: transparent;\n",
              "      border-right-color: var(--fill-color);\n",
              "    }\n",
              "    80% {\n",
              "      border-color: transparent;\n",
              "      border-right-color: var(--fill-color);\n",
              "      border-bottom-color: var(--fill-color);\n",
              "    }\n",
              "    90% {\n",
              "      border-color: transparent;\n",
              "      border-bottom-color: var(--fill-color);\n",
              "    }\n",
              "  }\n",
              "</style>\n",
              "\n",
              "  <script>\n",
              "    async function quickchart(key) {\n",
              "      const quickchartButtonEl =\n",
              "        document.querySelector('#' + key + ' button');\n",
              "      quickchartButtonEl.disabled = true;  // To prevent multiple clicks.\n",
              "      quickchartButtonEl.classList.add('colab-df-spinner');\n",
              "      try {\n",
              "        const charts = await google.colab.kernel.invokeFunction(\n",
              "            'suggestCharts', [key], {});\n",
              "      } catch (error) {\n",
              "        console.error('Error during call to suggestCharts:', error);\n",
              "      }\n",
              "      quickchartButtonEl.classList.remove('colab-df-spinner');\n",
              "      quickchartButtonEl.classList.add('colab-df-quickchart-complete');\n",
              "    }\n",
              "    (() => {\n",
              "      let quickchartButtonEl =\n",
              "        document.querySelector('#df-8567f407-7d9b-46c5-a04e-e73211adad67 button');\n",
              "      quickchartButtonEl.style.display =\n",
              "        google.colab.kernel.accessAllowed ? 'block' : 'none';\n",
              "    })();\n",
              "  </script>\n",
              "</div>\n",
              "\n",
              "    </div>\n",
              "  </div>\n"
            ],
            "application/vnd.google.colaboratory.intrinsic+json": {
              "type": "dataframe",
              "summary": "{\n  \"name\": \"max_min\",\n  \"rows\": 8,\n  \"fields\": [\n    {\n      \"column\": \"minimum_salary\",\n      \"properties\": {\n        \"dtype\": \"number\",\n        \"std\": 42130.08774115545,\n        \"min\": 498.0,\n        \"max\": 130000.0,\n        \"num_unique_values\": 8,\n        \"samples\": [\n          89169.1967871486,\n          80000.0,\n          498.0\n        ],\n        \"semantic_type\": \"\",\n        \"description\": \"\"\n      }\n    },\n    {\n      \"column\": \"maximum_salary\",\n      \"properties\": {\n        \"dtype\": \"number\",\n        \"std\": 52611.78117220434,\n        \"min\": 498.0,\n        \"max\": 155000.0,\n        \"num_unique_values\": 8,\n        \"samples\": [\n          108798.26305220883,\n          105901.0,\n          498.0\n        ],\n        \"semantic_type\": \"\",\n        \"description\": \"\"\n      }\n    }\n  ]\n}"
            }
          },
          "metadata": {},
          "execution_count": 11
        }
      ],
      "source": [
        "#Cleaning salary column as there 1916 null values and slored in string format\n",
        "salary=[]\n",
        "sal=usa_df['salary'].dropna()\n",
        "\n",
        "sal= [\"\".join(s.split()) for s in sal]   # spliting each terms in string to get\n",
        "sal=[s.split(\"-\",1) for s in sal]\n",
        "\n",
        "mini=[float(m) for m in (str(s[0]).replace('$','').replace(',','') for s in sal) ]\n",
        "maxi=[float(m) for m in (str(s[1]).replace('$','').replace(',','') for s in sal) ]\n",
        "\n",
        "minimum_salary=[ i for i in mini if i>=30000]    #As there are many outliners\n",
        "maximum_salary=[ i for i in maxi if i>=30000]\n",
        "\n",
        "\n",
        "max_min=pd.DataFrame(data=zip(minimum_salary,maximum_salary),columns=[\"minimum_salary\",\"maximum_salary\"])\n",
        "\n",
        "max_min.describe()"
      ]
    },
    {
      "cell_type": "code",
      "execution_count": 12,
      "id": "eadabb94",
      "metadata": {
        "execution": {
          "iopub.execute_input": "2023-05-18T10:03:38.744749Z",
          "iopub.status.busy": "2023-05-18T10:03:38.743695Z",
          "iopub.status.idle": "2023-05-18T10:03:38.974012Z",
          "shell.execute_reply": "2023-05-18T10:03:38.972911Z"
        },
        "papermill": {
          "duration": 0.247138,
          "end_time": "2023-05-18T10:03:38.976536",
          "exception": false,
          "start_time": "2023-05-18T10:03:38.729398",
          "status": "completed"
        },
        "tags": [],
        "colab": {
          "base_uri": "https://localhost:8080/",
          "height": 430
        },
        "id": "eadabb94",
        "outputId": "13cd6413-21bd-42a0-b5cb-d20e4924bb7b"
      },
      "outputs": [
        {
          "output_type": "display_data",
          "data": {
            "text/plain": [
              "<Figure size 640x480 with 1 Axes>"
            ],
            "image/png": "[encoded data removed]"
          },
          "metadata": {}
        }
      ],
      "source": [
        "sns.boxplot(data=max_min,orient=\"h\",notch=True,medianprops={\"color\":\"yellow\"},width=0.5)\n",
        "plt.show()"
      ]
    },
    {
      "cell_type": "markdown",
      "id": "5813fb6a",
      "metadata": {
        "papermill": {
          "duration": 0.01272,
          "end_time": "2023-05-18T10:03:39.002486",
          "exception": false,
          "start_time": "2023-05-18T10:03:38.989766",
          "status": "completed"
        },
        "tags": [],
        "id": "5813fb6a"
      },
      "source": [
        "# Most preferred Job type: Onsite/Remote/Hybrid"
      ]
    },
    {
      "cell_type": "code",
      "execution_count": 13,
      "id": "4aefd318",
      "metadata": {
        "execution": {
          "iopub.execute_input": "2023-05-18T10:03:39.031465Z",
          "iopub.status.busy": "2023-05-18T10:03:39.031002Z",
          "iopub.status.idle": "2023-05-18T10:03:39.247074Z",
          "shell.execute_reply": "2023-05-18T10:03:39.245788Z"
        },
        "papermill": {
          "duration": 0.233761,
          "end_time": "2023-05-18T10:03:39.249946",
          "exception": false,
          "start_time": "2023-05-18T10:03:39.016185",
          "status": "completed"
        },
        "tags": [],
        "colab": {
          "base_uri": "https://localhost:8080/",
          "height": 624
        },
        "id": "4aefd318",
        "outputId": "5c3402a7-9050-4c81-dccd-a6a77ee65ea4"
      },
      "outputs": [
        {
          "output_type": "stream",
          "name": "stderr",
          "text": [
            "<ipython-input-13-514977551b63>:4: FutureWarning: \n",
            "\n",
            "Passing `palette` without assigning `hue` is deprecated and will be removed in v0.14.0. Assign the `x` variable to `hue` and set `legend=False` for the same effect.\n",
            "\n",
            "  ax=sns.barplot(x='onsite_remote',y='count',data=job_type,palette='cool')\n"
          ]
        },
        {
          "output_type": "display_data",
          "data": {
            "text/plain": [
              "<Figure size 300x400 with 1 Axes>"
            ],
            "image/png": "[encoded data removed]"
          },
          "metadata": {}
        },
        {
          "output_type": "execute_result",
          "data": {
            "text/plain": [
              "  onsite_remote  count\n",
              "0        remote    970\n",
              "1        onsite    950\n",
              "2        hybrid    925"
            ],
            "text/html": [
              "\n",
              "  <div id=\"df-acafd88f-2ce8-483a-8158-534852386d7c\" class=\"colab-df-container\">\n",
              "    <div>\n",
              "<style scoped>\n",
              "    .dataframe tbody tr th:only-of-type {\n",
              "        vertical-align: middle;\n",
              "    }\n",
              "\n",
              "    .dataframe tbody tr th {\n",
              "        vertical-align: top;\n",
              "    }\n",
              "\n",
              "    .dataframe thead th {\n",
              "        text-align: right;\n",
              "    }\n",
              "</style>\n",
              "<table border=\"1\" class=\"dataframe\">\n",
              "  <thead>\n",
              "    <tr style=\"text-align: right;\">\n",
              "      <th></th>\n",
              "      <th>onsite_remote</th>\n",
              "      <th>count</th>\n",
              "    </tr>\n",
              "  </thead>\n",
              "  <tbody>\n",
              "    <tr>\n",
              "      <th>0</th>\n",
              "      <td>remote</td>\n",
              "      <td>970</td>\n",
              "    </tr>\n",
              "    <tr>\n",
              "      <th>1</th>\n",
              "      <td>onsite</td>\n",
              "      <td>950</td>\n",
              "    </tr>\n",
              "    <tr>\n",
              "      <th>2</th>\n",
              "      <td>hybrid</td>\n",
              "      <td>925</td>\n",
              "    </tr>\n",
              "  </tbody>\n",
              "</table>\n",
              "</div>\n",
              "    <div class=\"colab-df-buttons\">\n",
              "\n",
              "  <div class=\"colab-df-container\">\n",
              "    <button class=\"colab-df-convert\" onclick=\"convertToInteractive('df-acafd88f-2ce8-483a-8158-534852386d7c')\"\n",
              "            title=\"Convert this dataframe to an interactive table.\"\n",
              "            style=\"display:none;\">\n",
              "\n",
              "  <svg xmlns=\"http://www.w3.org/2000/svg\" height=\"24px\" viewBox=\"0 -960 960 960\">\n",
              "    <path d=\"M120-120v-720h720v720H120Zm60-500h600v-160H180v160Zm220 220h160v-160H400v160Zm0 220h160v-160H400v160ZM180-400h160v-160H180v160Zm440 0h160v-160H620v160ZM180-180h160v-160H180v160Zm440 0h160v-160H620v160Z\"/>\n",
              "  </svg>\n",
              "    </button>\n",
              "\n",
              "  <style>\n",
              "    .colab-df-container {\n",
              "      display:flex;\n",
              "      gap: 12px;\n",
              "    }\n",
              "\n",
              "    .colab-df-convert {\n",
              "      background-color: #E8F0FE;\n",
              "      border: none;\n",
              "      border-radius: 50%;\n",
              "      cursor: pointer;\n",
              "      display: none;\n",
              "      fill: #1967D2;\n",
              "      height: 32px;\n",
              "      padding: 0 0 0 0;\n",
              "      width: 32px;\n",
              "    }\n",
              "\n",
              "    .colab-df-convert:hover {\n",
              "      background-color: #E2EBFA;\n",
              "      box-shadow: 0px 1px 2px rgba(60, 64, 67, 0.3), 0px 1px 3px 1px rgba(60, 64, 67, 0.15);\n",
              "      fill: #174EA6;\n",
              "    }\n",
              "\n",
              "    .colab-df-buttons div {\n",
              "      margin-bottom: 4px;\n",
              "    }\n",
              "\n",
              "    [theme=dark] .colab-df-convert {\n",
              "      background-color: #3B4455;\n",
              "      fill: #D2E3FC;\n",
              "    }\n",
              "\n",
              "    [theme=dark] .colab-df-convert:hover {\n",
              "      background-color: #434B5C;\n",
              "      box-shadow: 0px 1px 3px 1px rgba(0, 0, 0, 0.15);\n",
              "      filter: drop-shadow(0px 1px 2px rgba(0, 0, 0, 0.3));\n",
              "      fill: #FFFFFF;\n",
              "    }\n",
              "  </style>\n",
              "\n",
              "    <script>\n",
              "      const buttonEl =\n",
              "        document.querySelector('#df-acafd88f-2ce8-483a-8158-534852386d7c button.colab-df-convert');\n",
              "      buttonEl.style.display =\n",
              "        google.colab.kernel.accessAllowed ? 'block' : 'none';\n",
              "\n",
              "      async function convertToInteractive(key) {\n",
              "        const element = document.querySelector('#df-acafd88f-2ce8-483a-8158-534852386d7c');\n",
              "        const dataTable =\n",
              "          await google.colab.kernel.invokeFunction('convertToInteractive',\n",
              "                                                    [key], {});\n",
              "        if (!dataTable) return;\n",
              "\n",
              "        const docLinkHtml = 'Like what you see? Visit the ' +\n",
              "          '<a target=\"_blank\" href=https://colab.research.google.com/notebooks/data_table.ipynb>data table notebook</a>'\n",
              "          + ' to learn more about interactive tables.';\n",
              "        element.innerHTML = '';\n",
              "        dataTable['output_type'] = 'display_data';\n",
              "        await google.colab.output.renderOutput(dataTable, element);\n",
              "        const docLink = document.createElement('div');\n",
              "        docLink.innerHTML = docLinkHtml;\n",
              "        element.appendChild(docLink);\n",
              "      }\n",
              "    </script>\n",
              "  </div>\n",
              "\n",
              "\n",
              "<div id=\"df-1a5b6c76-3898-4a30-91d5-098d45980bd5\">\n",
              "  <button class=\"colab-df-quickchart\" onclick=\"quickchart('df-1a5b6c76-3898-4a30-91d5-098d45980bd5')\"\n",
              "            title=\"Suggest charts\"\n",
              "            style=\"display:none;\">\n",
              "\n",
              "<svg xmlns=\"http://www.w3.org/2000/svg\" height=\"24px\"viewBox=\"0 0 24 24\"\n",
              "     width=\"24px\">\n",
              "    <g>\n",
              "        <path d=\"M19 3H5c-1.1 0-2 .9-2 2v14c0 1.1.9 2 2 2h14c1.1 0 2-.9 2-2V5c0-1.1-.9-2-2-2zM9 17H7v-7h2v7zm4 0h-2V7h2v10zm4 0h-2v-4h2v4z\"/>\n",
              "    </g>\n",
              "</svg>\n",
              "  </button>\n",
              "\n",
              "<style>\n",
              "  .colab-df-quickchart {\n",
              "      --bg-color: #E8F0FE;\n",
              "      --fill-color: #1967D2;\n",
              "      --hover-bg-color: #E2EBFA;\n",
              "      --hover-fill-color: #174EA6;\n",
              "      --disabled-fill-color: #AAA;\n",
              "      --disabled-bg-color: #DDD;\n",
              "  }\n",
              "\n",
              "  [theme=dark] .colab-df-quickchart {\n",
              "      --bg-color: #3B4455;\n",
              "      --fill-color: #D2E3FC;\n",
              "      --hover-bg-color: #434B5C;\n",
              "      --hover-fill-color: #FFFFFF;\n",
              "      --disabled-bg-color: #3B4455;\n",
              "      --disabled-fill-color: #666;\n",
              "  }\n",
              "\n",
              "  .colab-df-quickchart {\n",
              "    background-color: var(--bg-color);\n",
              "    border: none;\n",
              "    border-radius: 50%;\n",
              "    cursor: pointer;\n",
              "    display: none;\n",
              "    fill: var(--fill-color);\n",
              "    height: 32px;\n",
              "    padding: 0;\n",
              "    width: 32px;\n",
              "  }\n",
              "\n",
              "  .colab-df-quickchart:hover {\n",
              "    background-color: var(--hover-bg-color);\n",
              "    box-shadow: 0 1px 2px rgba(60, 64, 67, 0.3), 0 1px 3px 1px rgba(60, 64, 67, 0.15);\n",
              "    fill: var(--button-hover-fill-color);\n",
              "  }\n",
              "\n",
              "  .colab-df-quickchart-complete:disabled,\n",
              "  .colab-df-quickchart-complete:disabled:hover {\n",
              "    background-color: var(--disabled-bg-color);\n",
              "    fill: var(--disabled-fill-color);\n",
              "    box-shadow: none;\n",
              "  }\n",
              "\n",
              "  .colab-df-spinner {\n",
              "    border: 2px solid var(--fill-color);\n",
              "    border-color: transparent;\n",
              "    border-bottom-color: var(--fill-color);\n",
              "    animation:\n",
              "      spin 1s steps(1) infinite;\n",
              "  }\n",
              "\n",
              "  @keyframes spin {\n",
              "    0% {\n",
              "      border-color: transparent;\n",
              "      border-bottom-color: var(--fill-color);\n",
              "      border-left-color: var(--fill-color);\n",
              "    }\n",
              "    20% {\n",
              "      border-color: transparent;\n",
              "      border-left-color: var(--fill-color);\n",
              "      border-top-color: var(--fill-color);\n",
              "    }\n",
              "    30% {\n",
              "      border-color: transparent;\n",
              "      border-left-color: var(--fill-color);\n",
              "      border-top-color: var(--fill-color);\n",
              "      border-right-color: var(--fill-color);\n",
              "    }\n",
              "    40% {\n",
              "      border-color: transparent;\n",
              "      border-right-color: var(--fill-color);\n",
              "      border-top-color: var(--fill-color);\n",
              "    }\n",
              "    60% {\n",
              "      border-color: transparent;\n",
              "      border-right-color: var(--fill-color);\n",
              "    }\n",
              "    80% {\n",
              "      border-color: transparent;\n",
              "      border-right-color: var(--fill-color);\n",
              "      border-bottom-color: var(--fill-color);\n",
              "    }\n",
              "    90% {\n",
              "      border-color: transparent;\n",
              "      border-bottom-color: var(--fill-color);\n",
              "    }\n",
              "  }\n",
              "</style>\n",
              "\n",
              "  <script>\n",
              "    async function quickchart(key) {\n",
              "      const quickchartButtonEl =\n",
              "        document.querySelector('#' + key + ' button');\n",
              "      quickchartButtonEl.disabled = true;  // To prevent multiple clicks.\n",
              "      quickchartButtonEl.classList.add('colab-df-spinner');\n",
              "      try {\n",
              "        const charts = await google.colab.kernel.invokeFunction(\n",
              "            'suggestCharts', [key], {});\n",
              "      } catch (error) {\n",
              "        console.error('Error during call to suggestCharts:', error);\n",
              "      }\n",
              "      quickchartButtonEl.classList.remove('colab-df-spinner');\n",
              "      quickchartButtonEl.classList.add('colab-df-quickchart-complete');\n",
              "    }\n",
              "    (() => {\n",
              "      let quickchartButtonEl =\n",
              "        document.querySelector('#df-1a5b6c76-3898-4a30-91d5-098d45980bd5 button');\n",
              "      quickchartButtonEl.style.display =\n",
              "        google.colab.kernel.accessAllowed ? 'block' : 'none';\n",
              "    })();\n",
              "  </script>\n",
              "</div>\n",
              "\n",
              "  <div id=\"id_0684a8f1-7c3f-4bd8-a935-ba031288ee0b\">\n",
              "    <style>\n",
              "      .colab-df-generate {\n",
              "        background-color: #E8F0FE;\n",
              "        border: none;\n",
              "        border-radius: 50%;\n",
              "        cursor: pointer;\n",
              "        display: none;\n",
              "        fill: #1967D2;\n",
              "        height: 32px;\n",
              "        padding: 0 0 0 0;\n",
              "        width: 32px;\n",
              "      }\n",
              "\n",
              "      .colab-df-generate:hover {\n",
              "        background-color: #E2EBFA;\n",
              "        box-shadow: 0px 1px 2px rgba(60, 64, 67, 0.3), 0px 1px 3px 1px rgba(60, 64, 67, 0.15);\n",
              "        fill: #174EA6;\n",
              "      }\n",
              "\n",
              "      [theme=dark] .colab-df-generate {\n",
              "        background-color: #3B4455;\n",
              "        fill: #D2E3FC;\n",
              "      }\n",
              "\n",
              "      [theme=dark] .colab-df-generate:hover {\n",
              "        background-color: #434B5C;\n",
              "        box-shadow: 0px 1px 3px 1px rgba(0, 0, 0, 0.15);\n",
              "        filter: drop-shadow(0px 1px 2px rgba(0, 0, 0, 0.3));\n",
              "        fill: #FFFFFF;\n",
              "      }\n",
              "    </style>\n",
              "    <button class=\"colab-df-generate\" onclick=\"generateWithVariable('job_type')\"\n",
              "            title=\"Generate code using this dataframe.\"\n",
              "            style=\"display:none;\">\n",
              "\n",
              "  <svg xmlns=\"http://www.w3.org/2000/svg\" height=\"24px\"viewBox=\"0 0 24 24\"\n",
              "       width=\"24px\">\n",
              "    <path d=\"M7,19H8.4L18.45,9,17,7.55,7,17.6ZM5,21V16.75L18.45,3.32a2,2,0,0,1,2.83,0l1.4,1.43a1.91,1.91,0,0,1,.58,1.4,1.91,1.91,0,0,1-.58,1.4L9.25,21ZM18.45,9,17,7.55Zm-12,3A5.31,5.31,0,0,0,4.9,8.1,5.31,5.31,0,0,0,1,6.5,5.31,5.31,0,0,0,4.9,4.9,5.31,5.31,0,0,0,6.5,1,5.31,5.31,0,0,0,8.1,4.9,5.31,5.31,0,0,0,12,6.5,5.46,5.46,0,0,0,6.5,12Z\"/>\n",
              "  </svg>\n",
              "    </button>\n",
              "    <script>\n",
              "      (() => {\n",
              "      const buttonEl =\n",
              "        document.querySelector('#id_0684a8f1-7c3f-4bd8-a935-ba031288ee0b button.colab-df-generate');\n",
              "      buttonEl.style.display =\n",
              "        google.colab.kernel.accessAllowed ? 'block' : 'none';\n",
              "\n",
              "      buttonEl.onclick = () => {\n",
              "        google.colab.notebook.generateWithVariable('job_type');\n",
              "      }\n",
              "      })();\n",
              "    </script>\n",
              "  </div>\n",
              "\n",
              "    </div>\n",
              "  </div>\n"
            ],
            "application/vnd.google.colaboratory.intrinsic+json": {
              "type": "dataframe",
              "variable_name": "job_type",
              "summary": "{\n  \"name\": \"job_type\",\n  \"rows\": 3,\n  \"fields\": [\n    {\n      \"column\": \"onsite_remote\",\n      \"properties\": {\n        \"dtype\": \"string\",\n        \"num_unique_values\": 3,\n        \"samples\": [\n          \"remote\",\n          \"onsite\",\n          \"hybrid\"\n        ],\n        \"semantic_type\": \"\",\n        \"description\": \"\"\n      }\n    },\n    {\n      \"column\": \"count\",\n      \"properties\": {\n        \"dtype\": \"number\",\n        \"std\": 22,\n        \"min\": 925,\n        \"max\": 970,\n        \"num_unique_values\": 3,\n        \"samples\": [\n          970,\n          950,\n          925\n        ],\n        \"semantic_type\": \"\",\n        \"description\": \"\"\n      }\n    }\n  ]\n}"
            }
          },
          "metadata": {},
          "execution_count": 13
        }
      ],
      "source": [
        "job_type=usa_df['onsite_remote'].value_counts().rename_axis('onsite_remote').reset_index(name='count')\n",
        "\n",
        "plt.figure(figsize=(3,4))\n",
        "ax=sns.barplot(x='onsite_remote',y='count',data=job_type,palette='cool')\n",
        "\n",
        "for container in ax.containers:\n",
        "    ax.bar_label(container)\n",
        "\n",
        "plt.show()\n",
        "job_type"
      ]
    },
    {
      "cell_type": "markdown",
      "id": "f7f862aa",
      "metadata": {
        "papermill": {
          "duration": 0.013568,
          "end_time": "2023-05-18T10:03:39.277401",
          "exception": false,
          "start_time": "2023-05-18T10:03:39.263833",
          "status": "completed"
        },
        "tags": [],
        "id": "f7f862aa"
      },
      "source": [
        "# Different Data Analyst role"
      ]
    },
    {
      "cell_type": "code",
      "execution_count": 14,
      "id": "d3a003c2",
      "metadata": {
        "execution": {
          "iopub.execute_input": "2023-05-18T10:03:39.307428Z",
          "iopub.status.busy": "2023-05-18T10:03:39.306998Z",
          "iopub.status.idle": "2023-05-18T10:03:39.316805Z",
          "shell.execute_reply": "2023-05-18T10:03:39.315708Z"
        },
        "papermill": {
          "duration": 0.028055,
          "end_time": "2023-05-18T10:03:39.319435",
          "exception": false,
          "start_time": "2023-05-18T10:03:39.291380",
          "status": "completed"
        },
        "tags": [],
        "colab": {
          "base_uri": "https://localhost:8080/",
          "height": 1000
        },
        "id": "d3a003c2",
        "outputId": "1c0ce66d-cb4c-4d98-f280-4c32ef27f3a0"
      },
      "outputs": [
        {
          "output_type": "execute_result",
          "data": {
            "text/plain": [
              "title\n",
              "Data Analyst                                           2110\n",
              "Data Analyst - Recent Graduate                          183\n",
              "Junior Data Analyst                                     139\n",
              "Data Analyst - (Remote - US)                             62\n",
              "Entry-Level Data Analyst                                 37\n",
              "Associate Data Analyst                                   37\n",
              "SQL Data Analyst                                         37\n",
              "Analyst (Global Data and Analytics)                      36\n",
              "Analyst, Data and Analytics                              36\n",
              "Analyst - Data Visualization                             35\n",
              "Data Analyst I (entry level)                             34\n",
              "Data Analyst (SQL)                                       25\n",
              "Data Analytics Analyst                                   21\n",
              "Data Analyst - remote!                                   10\n",
              "Data Analyst, Money                                       7\n",
              "Data Analyst - Remote                                     6\n",
              "Data Analyst I                                            4\n",
              "Data Analyst (Remote)                                     3\n",
              "Data Visualization Analyst                                2\n",
              "Data analyst                                              2\n",
              "Data Analyst (Global Remote)                              2\n",
              "REMOTE Data Analyst (SQL, Operations)                     2\n",
              "Senior Data Analyst                                       1\n",
              "Data Analyst - Weekly Hybrid Remote/Onsite Schedule       1\n",
              "Business Data Analyst                                     1\n",
              "Data Analyst - Energy                                     1\n",
              "Consultant/Data Analyst                                   1\n",
              "Group Data Analyst                                        1\n",
              "Data Analyst (Hybrid)                                     1\n",
              "Data Analyst (SQL, Teraform, Tableau) III - Remote        1\n",
              "Data Analyst/ $100M Valuation/ Hybrid                     1\n",
              "Data Analyst/Collector                                    1\n",
              "Data Analyst III - Remote                                 1\n",
              "WFH//Data Analyst                                         1\n",
              "Marketing Data Analyst                                    1\n",
              "Entry Level Data Analyst                                  1\n",
              "Junior Data Analyst-Entry Level                           1\n",
              "Name: count, dtype: int64"
            ],
            "text/html": [
              "<div>\n",
              "<style scoped>\n",
              "    .dataframe tbody tr th:only-of-type {\n",
              "        vertical-align: middle;\n",
              "    }\n",
              "\n",
              "    .dataframe tbody tr th {\n",
              "        vertical-align: top;\n",
              "    }\n",
              "\n",
              "    .dataframe thead th {\n",
              "        text-align: right;\n",
              "    }\n",
              "</style>\n",
              "<table border=\"1\" class=\"dataframe\">\n",
              "  <thead>\n",
              "    <tr style=\"text-align: right;\">\n",
              "      <th></th>\n",
              "      <th>count</th>\n",
              "    </tr>\n",
              "    <tr>\n",
              "      <th>title</th>\n",
              "      <th></th>\n",
              "    </tr>\n",
              "  </thead>\n",
              "  <tbody>\n",
              "    <tr>\n",
              "      <th>Data Analyst</th>\n",
              "      <td>2110</td>\n",
              "    </tr>\n",
              "    <tr>\n",
              "      <th>Data Analyst - Recent Graduate</th>\n",
              "      <td>183</td>\n",
              "    </tr>\n",
              "    <tr>\n",
              "      <th>Junior Data Analyst</th>\n",
              "      <td>139</td>\n",
              "    </tr>\n",
              "    <tr>\n",
              "      <th>Data Analyst - (Remote - US)</th>\n",
              "      <td>62</td>\n",
              "    </tr>\n",
              "    <tr>\n",
              "      <th>Entry-Level Data Analyst</th>\n",
              "      <td>37</td>\n",
              "    </tr>\n",
              "    <tr>\n",
              "      <th>Associate Data Analyst</th>\n",
              "      <td>37</td>\n",
              "    </tr>\n",
              "    <tr>\n",
              "      <th>SQL Data Analyst</th>\n",
              "      <td>37</td>\n",
              "    </tr>\n",
              "    <tr>\n",
              "      <th>Analyst (Global Data and Analytics)</th>\n",
              "      <td>36</td>\n",
              "    </tr>\n",
              "    <tr>\n",
              "      <th>Analyst, Data and Analytics</th>\n",
              "      <td>36</td>\n",
              "    </tr>\n",
              "    <tr>\n",
              "      <th>Analyst - Data Visualization</th>\n",
              "      <td>35</td>\n",
              "    </tr>\n",
              "    <tr>\n",
              "      <th>Data Analyst I (entry level)</th>\n",
              "      <td>34</td>\n",
              "    </tr>\n",
              "    <tr>\n",
              "      <th>Data Analyst (SQL)</th>\n",
              "      <td>25</td>\n",
              "    </tr>\n",
              "    <tr>\n",
              "      <th>Data Analytics Analyst</th>\n",
              "      <td>21</td>\n",
              "    </tr>\n",
              "    <tr>\n",
              "      <th>Data Analyst - remote!</th>\n",
              "      <td>10</td>\n",
              "    </tr>\n",
              "    <tr>\n",
              "      <th>Data Analyst, Money</th>\n",
              "      <td>7</td>\n",
              "    </tr>\n",
              "    <tr>\n",
              "      <th>Data Analyst - Remote</th>\n",
              "      <td>6</td>\n",
              "    </tr>\n",
              "    <tr>\n",
              "      <th>Data Analyst I</th>\n",
              "      <td>4</td>\n",
              "    </tr>\n",
              "    <tr>\n",
              "      <th>Data Analyst (Remote)</th>\n",
              "      <td>3</td>\n",
              "    </tr>\n",
              "    <tr>\n",
              "      <th>Data Visualization Analyst</th>\n",
              "      <td>2</td>\n",
              "    </tr>\n",
              "    <tr>\n",
              "      <th>Data analyst</th>\n",
              "      <td>2</td>\n",
              "    </tr>\n",
              "    <tr>\n",
              "      <th>Data Analyst (Global Remote)</th>\n",
              "      <td>2</td>\n",
              "    </tr>\n",
              "    <tr>\n",
              "      <th>REMOTE Data Analyst (SQL, Operations)</th>\n",
              "      <td>2</td>\n",
              "    </tr>\n",
              "    <tr>\n",
              "      <th>Senior Data Analyst</th>\n",
              "      <td>1</td>\n",
              "    </tr>\n",
              "    <tr>\n",
              "      <th>Data Analyst - Weekly Hybrid Remote/Onsite Schedule</th>\n",
              "      <td>1</td>\n",
              "    </tr>\n",
              "    <tr>\n",
              "      <th>Business Data Analyst</th>\n",
              "      <td>1</td>\n",
              "    </tr>\n",
              "    <tr>\n",
              "      <th>Data Analyst - Energy</th>\n",
              "      <td>1</td>\n",
              "    </tr>\n",
              "    <tr>\n",
              "      <th>Consultant/Data Analyst</th>\n",
              "      <td>1</td>\n",
              "    </tr>\n",
              "    <tr>\n",
              "      <th>Group Data Analyst</th>\n",
              "      <td>1</td>\n",
              "    </tr>\n",
              "    <tr>\n",
              "      <th>Data Analyst (Hybrid)</th>\n",
              "      <td>1</td>\n",
              "    </tr>\n",
              "    <tr>\n",
              "      <th>Data Analyst (SQL, Teraform, Tableau) III - Remote</th>\n",
              "      <td>1</td>\n",
              "    </tr>\n",
              "    <tr>\n",
              "      <th>Data Analyst/ $100M Valuation/ Hybrid</th>\n",
              "      <td>1</td>\n",
              "    </tr>\n",
              "    <tr>\n",
              "      <th>Data Analyst/Collector</th>\n",
              "      <td>1</td>\n",
              "    </tr>\n",
              "    <tr>\n",
              "      <th>Data Analyst III - Remote</th>\n",
              "      <td>1</td>\n",
              "    </tr>\n",
              "    <tr>\n",
              "      <th>WFH//Data Analyst</th>\n",
              "      <td>1</td>\n",
              "    </tr>\n",
              "    <tr>\n",
              "      <th>Marketing Data Analyst</th>\n",
              "      <td>1</td>\n",
              "    </tr>\n",
              "    <tr>\n",
              "      <th>Entry Level Data Analyst</th>\n",
              "      <td>1</td>\n",
              "    </tr>\n",
              "    <tr>\n",
              "      <th>Junior Data Analyst-Entry Level</th>\n",
              "      <td>1</td>\n",
              "    </tr>\n",
              "  </tbody>\n",
              "</table>\n",
              "</div><br><label><b>dtype:</b> int64</label>"
            ]
          },
          "metadata": {},
          "execution_count": 14
        }
      ],
      "source": [
        "usa_df['title'].value_counts()"
      ]
    },
    {
      "cell_type": "markdown",
      "id": "c0949cf5",
      "metadata": {
        "papermill": {
          "duration": 0.014397,
          "end_time": "2023-05-18T10:03:39.347939",
          "exception": false,
          "start_time": "2023-05-18T10:03:39.333542",
          "status": "completed"
        },
        "tags": [],
        "id": "c0949cf5"
      },
      "source": [
        "# Companies with more hirings"
      ]
    },
    {
      "cell_type": "code",
      "execution_count": 15,
      "id": "8fa58ee2",
      "metadata": {
        "execution": {
          "iopub.execute_input": "2023-05-18T10:03:39.377668Z",
          "iopub.status.busy": "2023-05-18T10:03:39.377251Z",
          "iopub.status.idle": "2023-05-18T10:03:39.682097Z",
          "shell.execute_reply": "2023-05-18T10:03:39.680834Z"
        },
        "papermill": {
          "duration": 0.322691,
          "end_time": "2023-05-18T10:03:39.684723",
          "exception": false,
          "start_time": "2023-05-18T10:03:39.362032",
          "status": "completed"
        },
        "tags": [],
        "colab": {
          "base_uri": "https://localhost:8080/",
          "height": 445
        },
        "id": "8fa58ee2",
        "outputId": "1caa8ecb-404a-4b88-f3db-32eedd87dcaa"
      },
      "outputs": [
        {
          "output_type": "display_data",
          "data": {
            "text/plain": [
              "<Figure size 500x500 with 1 Axes>"
            ],
            "image/png": "[encoded data removed]"
          },
          "metadata": {}
        }
      ],
      "source": [
        "c_vc=usa_df['company'].value_counts().sort_values(ascending=True)\n",
        "remove_i=c_vc[c_vc<50].index\n",
        "c_vc.drop(labels=remove_i,inplace=True)\n",
        "\n",
        "c_ax=c_vc.plot(kind=\"barh\",figsize=(5,5))\n",
        "\n",
        "for container in c_ax.containers:\n",
        "    c_ax.bar_label(container)\n",
        "\n",
        "plt.show()"
      ]
    },
    {
      "cell_type": "markdown",
      "id": "166163fc",
      "metadata": {
        "papermill": {
          "duration": 0.014567,
          "end_time": "2023-05-18T10:03:39.714045",
          "exception": false,
          "start_time": "2023-05-18T10:03:39.699478",
          "status": "completed"
        },
        "tags": [],
        "id": "166163fc"
      },
      "source": [
        "# Top 10 locations to work"
      ]
    },
    {
      "cell_type": "code",
      "execution_count": 16,
      "id": "58e55801",
      "metadata": {
        "execution": {
          "iopub.execute_input": "2023-05-18T10:03:39.744718Z",
          "iopub.status.busy": "2023-05-18T10:03:39.744310Z",
          "iopub.status.idle": "2023-05-18T10:03:39.754327Z",
          "shell.execute_reply": "2023-05-18T10:03:39.753242Z"
        },
        "papermill": {
          "duration": 0.028154,
          "end_time": "2023-05-18T10:03:39.756630",
          "exception": false,
          "start_time": "2023-05-18T10:03:39.728476",
          "status": "completed"
        },
        "tags": [],
        "colab": {
          "base_uri": "https://localhost:8080/",
          "height": 429
        },
        "id": "58e55801",
        "outputId": "254622c8-8493-4f24-ad48-735b73288cea"
      },
      "outputs": [
        {
          "output_type": "execute_result",
          "data": {
            "text/plain": [
              "location\n",
              "United States                      632\n",
              "New York City Metropolitan Area    179\n",
              "Chicago, IL                        153\n",
              "New York, NY                       100\n",
              "Austin, TX                          72\n",
              "Texas, United States                67\n",
              "Timonium, MD                        61\n",
              "Dallas, TX                          55\n",
              "Boston, MA                          54\n",
              "Charlotte, NC                       41\n",
              "Name: count, dtype: int64"
            ],
            "text/html": [
              "<div>\n",
              "<style scoped>\n",
              "    .dataframe tbody tr th:only-of-type {\n",
              "        vertical-align: middle;\n",
              "    }\n",
              "\n",
              "    .dataframe tbody tr th {\n",
              "        vertical-align: top;\n",
              "    }\n",
              "\n",
              "    .dataframe thead th {\n",
              "        text-align: right;\n",
              "    }\n",
              "</style>\n",
              "<table border=\"1\" class=\"dataframe\">\n",
              "  <thead>\n",
              "    <tr style=\"text-align: right;\">\n",
              "      <th></th>\n",
              "      <th>count</th>\n",
              "    </tr>\n",
              "    <tr>\n",
              "      <th>location</th>\n",
              "      <th></th>\n",
              "    </tr>\n",
              "  </thead>\n",
              "  <tbody>\n",
              "    <tr>\n",
              "      <th>United States</th>\n",
              "      <td>632</td>\n",
              "    </tr>\n",
              "    <tr>\n",
              "      <th>New York City Metropolitan Area</th>\n",
              "      <td>179</td>\n",
              "    </tr>\n",
              "    <tr>\n",
              "      <th>Chicago, IL</th>\n",
              "      <td>153</td>\n",
              "    </tr>\n",
              "    <tr>\n",
              "      <th>New York, NY</th>\n",
              "      <td>100</td>\n",
              "    </tr>\n",
              "    <tr>\n",
              "      <th>Austin, TX</th>\n",
              "      <td>72</td>\n",
              "    </tr>\n",
              "    <tr>\n",
              "      <th>Texas, United States</th>\n",
              "      <td>67</td>\n",
              "    </tr>\n",
              "    <tr>\n",
              "      <th>Timonium, MD</th>\n",
              "      <td>61</td>\n",
              "    </tr>\n",
              "    <tr>\n",
              "      <th>Dallas, TX</th>\n",
              "      <td>55</td>\n",
              "    </tr>\n",
              "    <tr>\n",
              "      <th>Boston, MA</th>\n",
              "      <td>54</td>\n",
              "    </tr>\n",
              "    <tr>\n",
              "      <th>Charlotte, NC</th>\n",
              "      <td>41</td>\n",
              "    </tr>\n",
              "  </tbody>\n",
              "</table>\n",
              "</div><br><label><b>dtype:</b> int64</label>"
            ]
          },
          "metadata": {},
          "execution_count": 16
        }
      ],
      "source": [
        "#Places that provide opportunities for growth\n",
        "usa_df['location'].value_counts().head(10)"
      ]
    },
    {
      "cell_type": "markdown",
      "id": "777a8f4a",
      "metadata": {
        "papermill": {
          "duration": 0.014172,
          "end_time": "2023-05-18T10:03:39.785447",
          "exception": false,
          "start_time": "2023-05-18T10:03:39.771275",
          "status": "completed"
        },
        "tags": [],
        "id": "777a8f4a"
      },
      "source": [
        "# Days on which most jobs are posted"
      ]
    },
    {
      "cell_type": "code",
      "execution_count": 17,
      "id": "5c8c0775",
      "metadata": {
        "execution": {
          "iopub.execute_input": "2023-05-18T10:03:39.816776Z",
          "iopub.status.busy": "2023-05-18T10:03:39.816356Z",
          "iopub.status.idle": "2023-05-18T10:03:40.056097Z",
          "shell.execute_reply": "2023-05-18T10:03:40.054952Z"
        },
        "papermill": {
          "duration": 0.258498,
          "end_time": "2023-05-18T10:03:40.058552",
          "exception": false,
          "start_time": "2023-05-18T10:03:39.800054",
          "status": "completed"
        },
        "tags": [],
        "colab": {
          "base_uri": "https://localhost:8080/",
          "height": 531
        },
        "id": "5c8c0775",
        "outputId": "e42e71e2-e2cc-44e7-ffda-0232a23454ce"
      },
      "outputs": [
        {
          "output_type": "display_data",
          "data": {
            "text/plain": [
              "<Figure size 1000x500 with 1 Axes>"
            ],
            "image/png": "[encoded data removed]"
          },
          "metadata": {}
        }
      ],
      "source": [
        "days=usa_df['posted_date'].dt.day_name().value_counts()\n",
        "\n",
        "d_ax=days.plot(kind=\"bar\",figsize=(10,5))\n",
        "\n",
        "for container in d_ax.containers:\n",
        "    d_ax.bar_label(container)\n",
        "\n",
        "plt.yticks(ticks=[],labels=[])\n",
        "plt.show()"
      ]
    },
    {
      "cell_type": "markdown",
      "id": "3bdeb30a",
      "metadata": {
        "papermill": {
          "duration": 0.014604,
          "end_time": "2023-05-18T10:03:40.088376",
          "exception": false,
          "start_time": "2023-05-18T10:03:40.073772",
          "status": "completed"
        },
        "tags": [],
        "id": "3bdeb30a"
      },
      "source": [
        "# Most required Criteria in Seniority level, Employment type, job function and Industries"
      ]
    },
    {
      "cell_type": "code",
      "execution_count": 18,
      "id": "6271cacc",
      "metadata": {
        "execution": {
          "iopub.execute_input": "2023-05-18T10:03:40.120783Z",
          "iopub.status.busy": "2023-05-18T10:03:40.120347Z",
          "iopub.status.idle": "2023-05-18T10:03:40.128643Z",
          "shell.execute_reply": "2023-05-18T10:03:40.127595Z"
        },
        "papermill": {
          "duration": 0.027268,
          "end_time": "2023-05-18T10:03:40.131079",
          "exception": false,
          "start_time": "2023-05-18T10:03:40.103811",
          "status": "completed"
        },
        "tags": [],
        "colab": {
          "base_uri": "https://localhost:8080/",
          "height": 241
        },
        "id": "6271cacc",
        "outputId": "1aaa34a3-febb-4ad4-f296-4695752592a0"
      },
      "outputs": [
        {
          "output_type": "execute_result",
          "data": {
            "text/plain": [
              "0    [{'Seniority level': 'Not Applicable'}, {'Empl...\n",
              "1    [{'Seniority level': 'Not Applicable'}, {'Empl...\n",
              "2    [{'Seniority level': 'Not Applicable'}, {'Empl...\n",
              "3    [{'Seniority level': 'Not Applicable'}, {'Empl...\n",
              "4    [{'Seniority level': 'Entry level'}, {'Employm...\n",
              "Name: criteria, dtype: object"
            ],
            "text/html": [
              "<div>\n",
              "<style scoped>\n",
              "    .dataframe tbody tr th:only-of-type {\n",
              "        vertical-align: middle;\n",
              "    }\n",
              "\n",
              "    .dataframe tbody tr th {\n",
              "        vertical-align: top;\n",
              "    }\n",
              "\n",
              "    .dataframe thead th {\n",
              "        text-align: right;\n",
              "    }\n",
              "</style>\n",
              "<table border=\"1\" class=\"dataframe\">\n",
              "  <thead>\n",
              "    <tr style=\"text-align: right;\">\n",
              "      <th></th>\n",
              "      <th>criteria</th>\n",
              "    </tr>\n",
              "  </thead>\n",
              "  <tbody>\n",
              "    <tr>\n",
              "      <th>0</th>\n",
              "      <td>[{'Seniority level': 'Not Applicable'}, {'Empl...</td>\n",
              "    </tr>\n",
              "    <tr>\n",
              "      <th>1</th>\n",
              "      <td>[{'Seniority level': 'Not Applicable'}, {'Empl...</td>\n",
              "    </tr>\n",
              "    <tr>\n",
              "      <th>2</th>\n",
              "      <td>[{'Seniority level': 'Not Applicable'}, {'Empl...</td>\n",
              "    </tr>\n",
              "    <tr>\n",
              "      <th>3</th>\n",
              "      <td>[{'Seniority level': 'Not Applicable'}, {'Empl...</td>\n",
              "    </tr>\n",
              "    <tr>\n",
              "      <th>4</th>\n",
              "      <td>[{'Seniority level': 'Entry level'}, {'Employm...</td>\n",
              "    </tr>\n",
              "  </tbody>\n",
              "</table>\n",
              "</div><br><label><b>dtype:</b> object</label>"
            ]
          },
          "metadata": {},
          "execution_count": 18
        }
      ],
      "source": [
        "usa_df['criteria'][0:5]   #each record is list with dictionaries as its items in string format\n",
        "\n"
      ]
    },
    {
      "cell_type": "code",
      "execution_count": 19,
      "id": "ba695f97",
      "metadata": {
        "execution": {
          "iopub.execute_input": "2023-05-18T10:03:40.163622Z",
          "iopub.status.busy": "2023-05-18T10:03:40.162823Z",
          "iopub.status.idle": "2023-05-18T10:03:40.176435Z",
          "shell.execute_reply": "2023-05-18T10:03:40.175591Z"
        },
        "papermill": {
          "duration": 0.032294,
          "end_time": "2023-05-18T10:03:40.178597",
          "exception": false,
          "start_time": "2023-05-18T10:03:40.146303",
          "status": "completed"
        },
        "tags": [],
        "colab": {
          "base_uri": "https://localhost:8080/",
          "height": 73
        },
        "id": "ba695f97",
        "outputId": "b25a6161-4eed-4061-b824-d3191a813194"
      },
      "outputs": [
        {
          "output_type": "stream",
          "name": "stdout",
          "text": [
            "[\"{'Seniority level': 'Not Applicable'}\", \" {'Employment type': 'Full-time'}\", \" {'Job function': 'Information Technology'}\", \" {'Industries': 'Software Development, Technology, Information and Internet, and Financial Services'}\"]\n"
          ]
        },
        {
          "output_type": "execute_result",
          "data": {
            "text/plain": [
              "\"{'Seniority level': 'Not Applicable'}\""
            ],
            "application/vnd.google.colaboratory.intrinsic+json": {
              "type": "string"
            }
          },
          "metadata": {},
          "execution_count": 19
        }
      ],
      "source": [
        "#each item are split with delimeter comma(,) and returned as string in list\n",
        "\n",
        "c=usa_df['criteria'].apply(lambda x: x[1:-1].split(',',3)).to_list()\n",
        "\n",
        "print(c[0]) #list of items as string\n",
        "c[0][0] #dictionary as string\n"
      ]
    },
    {
      "cell_type": "code",
      "execution_count": 20,
      "id": "94cd50fd",
      "metadata": {
        "execution": {
          "iopub.execute_input": "2023-05-18T10:03:40.211041Z",
          "iopub.status.busy": "2023-05-18T10:03:40.210406Z",
          "iopub.status.idle": "2023-05-18T10:03:40.214976Z",
          "shell.execute_reply": "2023-05-18T10:03:40.214137Z"
        },
        "papermill": {
          "duration": 0.023462,
          "end_time": "2023-05-18T10:03:40.217290",
          "exception": false,
          "start_time": "2023-05-18T10:03:40.193828",
          "status": "completed"
        },
        "tags": [],
        "id": "94cd50fd"
      },
      "outputs": [],
      "source": [
        "sl=[]\n",
        "et=[]\n",
        "jf=[]\n",
        "ind=[]"
      ]
    },
    {
      "cell_type": "code",
      "execution_count": 21,
      "id": "d09a124f",
      "metadata": {
        "execution": {
          "iopub.execute_input": "2023-05-18T10:03:40.249944Z",
          "iopub.status.busy": "2023-05-18T10:03:40.249259Z",
          "iopub.status.idle": "2023-05-18T10:03:40.319725Z",
          "shell.execute_reply": "2023-05-18T10:03:40.318387Z"
        },
        "papermill": {
          "duration": 0.090149,
          "end_time": "2023-05-18T10:03:40.322673",
          "exception": false,
          "start_time": "2023-05-18T10:03:40.232524",
          "status": "completed"
        },
        "tags": [],
        "id": "d09a124f"
      },
      "outputs": [],
      "source": [
        "# function which takes list as arguments and convert each item to dictionary.\n",
        "#Values are extracted from respective keys and appended to respective list\n",
        "\n",
        "import json\n",
        "def dict_con(d):\n",
        "    try:\n",
        "        d1=(json.loads(i.replace(\"'\",'\"')) for i in d)\n",
        "        for i in d1:\n",
        "            if \"Seniority level\" in i.keys():\n",
        "                sl.extend(i.values())\n",
        "            if \"Employment type\" in i.keys():\n",
        "                et.extend(i.values())\n",
        "            if \"Job function\" in i.keys():\n",
        "                jf.extend(i.values())\n",
        "            if \"Industries\" in i.keys():\n",
        "                ind.extend(i.values())\n",
        "    except:\n",
        "        pass\n",
        "\n",
        "\n",
        "for i in c:\n",
        "    dict_con(i)\n"
      ]
    },
    {
      "cell_type": "code",
      "execution_count": 22,
      "id": "dd2bcf26",
      "metadata": {
        "execution": {
          "iopub.execute_input": "2023-05-18T10:03:40.355938Z",
          "iopub.status.busy": "2023-05-18T10:03:40.355286Z",
          "iopub.status.idle": "2023-05-18T10:03:40.362419Z",
          "shell.execute_reply": "2023-05-18T10:03:40.361361Z"
        },
        "papermill": {
          "duration": 0.026808,
          "end_time": "2023-05-18T10:03:40.364910",
          "exception": false,
          "start_time": "2023-05-18T10:03:40.338102",
          "status": "completed"
        },
        "tags": [],
        "id": "dd2bcf26"
      },
      "outputs": [],
      "source": [
        "Seniority_level=pd.Series(sl)\n",
        "Employment_type=pd.Series(et)\n",
        "Job_function=pd.Series(jf)\n",
        "Industries=pd.Series(ind)"
      ]
    },
    {
      "cell_type": "markdown",
      "id": "c7391336",
      "metadata": {
        "papermill": {
          "duration": 0.014925,
          "end_time": "2023-05-18T10:03:40.395698",
          "exception": false,
          "start_time": "2023-05-18T10:03:40.380773",
          "status": "completed"
        },
        "tags": [],
        "id": "c7391336"
      },
      "source": [
        "#### Seniority level expections"
      ]
    },
    {
      "cell_type": "code",
      "execution_count": 23,
      "id": "f0212edd",
      "metadata": {
        "execution": {
          "iopub.execute_input": "2023-05-18T10:03:40.428627Z",
          "iopub.status.busy": "2023-05-18T10:03:40.428003Z",
          "iopub.status.idle": "2023-05-18T10:03:40.639507Z",
          "shell.execute_reply": "2023-05-18T10:03:40.638376Z"
        },
        "papermill": {
          "duration": 0.231022,
          "end_time": "2023-05-18T10:03:40.642123",
          "exception": false,
          "start_time": "2023-05-18T10:03:40.411101",
          "status": "completed"
        },
        "tags": [],
        "colab": {
          "base_uri": "https://localhost:8080/",
          "height": 441
        },
        "id": "f0212edd",
        "outputId": "cdb39bae-1241-4a5e-fce1-cbcc60ce0643"
      },
      "outputs": [
        {
          "output_type": "display_data",
          "data": {
            "text/plain": [
              "<Figure size 800x500 with 1 Axes>"
            ],
            "image/png": "[encoded data removed]"
          },
          "metadata": {}
        }
      ],
      "source": [
        "ax=Seniority_level.value_counts().sort_values(ascending=True).plot(kind=\"barh\",figsize=(8,5))\n",
        "\n",
        "for container in ax.containers:\n",
        "    ax.bar_label(container)\n",
        "\n",
        "plt.xlabel(\"Data Analyst Jobs Based On Seniority Expectaions \")\n",
        "plt.xticks(ticks=[],labels=[])\n",
        "\n",
        "plt.show()"
      ]
    },
    {
      "cell_type": "markdown",
      "id": "435f0b50",
      "metadata": {
        "papermill": {
          "duration": 0.015327,
          "end_time": "2023-05-18T10:03:40.673372",
          "exception": false,
          "start_time": "2023-05-18T10:03:40.658045",
          "status": "completed"
        },
        "tags": [],
        "id": "435f0b50"
      },
      "source": [
        "#### Employment type"
      ]
    },
    {
      "cell_type": "code",
      "execution_count": 24,
      "id": "86e36984",
      "metadata": {
        "execution": {
          "iopub.execute_input": "2023-05-18T10:03:40.706921Z",
          "iopub.status.busy": "2023-05-18T10:03:40.706263Z",
          "iopub.status.idle": "2023-05-18T10:03:40.906252Z",
          "shell.execute_reply": "2023-05-18T10:03:40.905146Z"
        },
        "papermill": {
          "duration": 0.219715,
          "end_time": "2023-05-18T10:03:40.908752",
          "exception": false,
          "start_time": "2023-05-18T10:03:40.689037",
          "status": "completed"
        },
        "tags": [],
        "colab": {
          "base_uri": "https://localhost:8080/",
          "height": 441
        },
        "id": "86e36984",
        "outputId": "1ada9887-789c-435f-874d-8c1ca0556799"
      },
      "outputs": [
        {
          "output_type": "display_data",
          "data": {
            "text/plain": [
              "<Figure size 800x500 with 1 Axes>"
            ],
            "image/png": "[encoded data removed]"
          },
          "metadata": {}
        }
      ],
      "source": [
        "b=Employment_type.value_counts().sort_values(ascending=True).plot(kind=\"barh\",figsize=(8,5))\n",
        "\n",
        "for container in b.containers:\n",
        "    b.bar_label(container)\n",
        "\n",
        "plt.xlabel(\"Data Analyst Jobs Based On Employment type \")\n",
        "plt.xticks(ticks=[],labels=[])\n",
        "\n",
        "plt.show()"
      ]
    },
    {
      "cell_type": "markdown",
      "id": "280cf8d0",
      "metadata": {
        "papermill": {
          "duration": 0.015743,
          "end_time": "2023-05-18T10:03:40.940522",
          "exception": false,
          "start_time": "2023-05-18T10:03:40.924779",
          "status": "completed"
        },
        "tags": [],
        "id": "280cf8d0"
      },
      "source": [
        "#### Job function"
      ]
    },
    {
      "cell_type": "code",
      "execution_count": 25,
      "id": "6d0f4793",
      "metadata": {
        "execution": {
          "iopub.execute_input": "2023-05-18T10:03:40.974955Z",
          "iopub.status.busy": "2023-05-18T10:03:40.974288Z",
          "iopub.status.idle": "2023-05-18T10:03:41.261914Z",
          "shell.execute_reply": "2023-05-18T10:03:41.260713Z"
        },
        "papermill": {
          "duration": 0.30768,
          "end_time": "2023-05-18T10:03:41.264388",
          "exception": false,
          "start_time": "2023-05-18T10:03:40.956708",
          "status": "completed"
        },
        "tags": [],
        "colab": {
          "base_uri": "https://localhost:8080/",
          "height": 441
        },
        "id": "6d0f4793",
        "outputId": "c9b03ff8-fab7-428c-aac6-4da6d621081a"
      },
      "outputs": [
        {
          "output_type": "display_data",
          "data": {
            "text/plain": [
              "<Figure size 800x500 with 1 Axes>"
            ],
            "image/png": "[encoded data removed]"
          },
          "metadata": {}
        }
      ],
      "source": [
        "jf_vc=Job_function.value_counts()\n",
        "remove=jf_vc[jf_vc<20].index\n",
        "jf_vc.drop(labels=remove,inplace=True)\n",
        "\n",
        "\n",
        "jf_ax=jf_vc.sort_values(ascending=True).plot(kind=\"barh\",figsize=(8,5))\n",
        "\n",
        "for container in jf_ax.containers:\n",
        "    jf_ax.bar_label(container)\n",
        "\n",
        "plt.xlabel(\"Data Analyst Jobs Based On Job Function \")\n",
        "plt.xticks(ticks=[],labels=[])\n",
        "\n",
        "plt.show()"
      ]
    },
    {
      "cell_type": "markdown",
      "id": "03556763",
      "metadata": {
        "papermill": {
          "duration": 0.018519,
          "end_time": "2023-05-18T10:03:41.300311",
          "exception": false,
          "start_time": "2023-05-18T10:03:41.281792",
          "status": "completed"
        },
        "tags": [],
        "id": "03556763"
      },
      "source": [
        "#### Industries"
      ]
    },
    {
      "cell_type": "code",
      "execution_count": 26,
      "id": "f4775906",
      "metadata": {
        "execution": {
          "iopub.execute_input": "2023-05-18T10:03:41.335745Z",
          "iopub.status.busy": "2023-05-18T10:03:41.335348Z",
          "iopub.status.idle": "2023-05-18T10:03:41.600241Z",
          "shell.execute_reply": "2023-05-18T10:03:41.599065Z"
        },
        "papermill": {
          "duration": 0.285797,
          "end_time": "2023-05-18T10:03:41.602876",
          "exception": false,
          "start_time": "2023-05-18T10:03:41.317079",
          "status": "completed"
        },
        "tags": [],
        "colab": {
          "base_uri": "https://localhost:8080/",
          "height": 365
        },
        "id": "f4775906",
        "outputId": "43289262-444f-476e-dd40-5eca68f3a36a"
      },
      "outputs": [
        {
          "output_type": "display_data",
          "data": {
            "text/plain": [
              "<Figure size 800x500 with 1 Axes>"
            ],
            "image/png": "[encoded data removed]"
          },
          "metadata": {}
        }
      ],
      "source": [
        "i_vc=Industries.value_counts()\n",
        "remove_i=i_vc[i_vc<50].index\n",
        "i_vc.drop(labels=remove_i,inplace=True)\n",
        "\n",
        "\n",
        "ind_ax=i_vc.sort_values(ascending=True).plot(kind=\"barh\",figsize=(8,5))\n",
        "\n",
        "for container in ind_ax.containers:\n",
        "    ind_ax.bar_label(container)\n",
        "\n",
        "plt.xlabel(\"Data Analyst Jobs Based On Industries \")\n",
        "plt.xticks(ticks=[],labels=[])\n",
        "\n",
        "plt.show()"
      ]
    },
    {
      "cell_type": "markdown",
      "id": "738a78cd",
      "metadata": {
        "papermill": {
          "duration": 0.017859,
          "end_time": "2023-05-18T10:03:41.638443",
          "exception": false,
          "start_time": "2023-05-18T10:03:41.620584",
          "status": "completed"
        },
        "tags": [],
        "id": "738a78cd"
      },
      "source": []
    }
  ],
  "metadata": {
    "kernelspec": {
      "display_name": "Python 3",
      "language": "python",
      "name": "python3"
    },
    "language_info": {
      "codemirror_mode": {
        "name": "ipython",
        "version": 3
      },
      "file_extension": ".py",
      "mimetype": "text/x-python",
      "name": "python",
      "nbconvert_exporter": "python",
      "pygments_lexer": "ipython3",
      "version": "3.10.10"
    },
    "papermill": {
      "default_parameters": {},
      "duration": 19.3755,
      "end_time": "2023-05-18T10:03:42.678937",
      "environment_variables": {},
      "exception": null,
      "input_path": "__notebook__.ipynb",
      "output_path": "__notebook__.ipynb",
      "parameters": {},
      "start_time": "2023-05-18T10:03:23.303437",
      "version": "2.4.0"
    },
    "colab": {
      "provenance": [],
      "toc_visible": true
    }
  },
  "nbformat": 4,
  "nbformat_minor": 5
}